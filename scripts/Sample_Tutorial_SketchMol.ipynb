{
 "cells": [
  {
   "cell_type": "code",
   "execution_count": 24,
   "id": "0c779e4a",
   "metadata": {
    "pycharm": {
     "name": "#%%\n"
    }
   },
   "outputs": [],
   "source": [
    "import argparse, os, sys, glob, datetime, yaml, random, re, time, torch, cv2, warnings\n",
    "current_dir = os.getcwd()\n",
    "os.chdir(os.path.dirname(current_dir))\n",
    "import numpy as np\n",
    "from tqdm import trange\n",
    "import pandas as pd\n",
    "from omegaconf import OmegaConf\n",
    "from PIL import Image\n",
    "import matplotlib.pyplot as plt\n",
    "from einops import rearrange\n",
    "from ldm.models.diffusion.ddim import DDIMSampler\n",
    "from ldm.util import instantiate_from_config\n",
    "from ldm.data.pubchemdata import pubchemBase_single_protein\n",
    "from scripts.sample_diffusion_condition_single_protein import run as sample_ep4_mol\n",
    "from scripts.inpaint_target import make_batch, extract_values, get_parser, load_model\n",
    "from scripts.inpaint_target import run as sample_ep4_mol_fragment\n",
    "warnings.filterwarnings(\"ignore\")"
   ]
  },
  {
   "cell_type": "markdown",
   "id": "38c3bcb4",
   "metadata": {
    "pycharm": {
     "name": "#%% md\n"
    }
   },
   "source": [
    "This tutorial includes two tasks: EP4 de novo design and fragment growing."
   ]
  },
  {
   "cell_type": "markdown",
   "id": "85da63e9",
   "metadata": {
    "pycharm": {
     "name": "#%% md\n"
    }
   },
   "source": [
    "Note that you should use a GPU with at least 24GB to run this tutorial."
   ]
  },
  {
   "cell_type": "markdown",
   "id": "61da89a6",
   "metadata": {
    "pycharm": {
     "name": "#%% md\n"
    }
   },
   "source": [
    "Basic parameters for sampling EP4 molecules. "
   ]
  },
  {
   "cell_type": "code",
   "execution_count": 70,
   "id": "258ee98a",
   "metadata": {
    "pycharm": {
     "name": "#%%\n"
    }
   },
   "outputs": [],
   "source": [
    "now = datetime.datetime.now().strftime(\"%Y-%m-%d-%H-%M-%S\")\n",
    "args_list = [\n",
    "    '--resume', '/work/data1/wangzixu/backup/sketchmol_model/ep4/last.ckpt',  # path to yout ckpt\n",
    "    '--post', '_exmaple_tutorial',  #The suffix of the folder where the results are saved.\n",
    "    '--conditional_count', '4',  # generate 4 molecular images\n",
    "    '--scale_pro', '2',          # The degree to which the generation is oriented towards properties.\n",
    "    '--preset_str', 'EP4:1',\n",
    "    '--validation_dataset', './scripts/inpainting_csv/example_fragment_grow.csv',\n",
    "]\n",
    "parser = get_parser()\n",
    "opt, unknown = parser.parse_known_args(args_list)\n",
    "if not os.path.exists(opt.resume):\n",
    "    raise ValueError(\"Cannot find {}\".format(opt.resume))\n",
    "\n",
    "logdir = '/'.join(opt.resume.split('/')[:-1])\n",
    "ckpt = opt.resume\n",
    "\n",
    "yaml_file = glob.glob(os.path.join(logdir, \"*.yaml\"))\n",
    "opt.base = yaml_file\n",
    "\n",
    "configs = [OmegaConf.load(cfg) for cfg in opt.base]\n",
    "cli = OmegaConf.from_dotlist(unknown)\n",
    "config = OmegaConf.merge(*configs, cli)\n",
    "\n",
    "gpu = True\n",
    "eval_mode = True\n",
    "\n",
    "logdir = os.path.join(logdir, now + opt.post, \"samples\")\n",
    "imglogdir = os.path.join(logdir, \"img\")\n",
    "os.makedirs(imglogdir, exist_ok=True)"
   ]
  },
  {
   "cell_type": "markdown",
   "id": "a3192a50",
   "metadata": {
    "pycharm": {
     "name": "#%% md\n"
    }
   },
   "source": [
    "Code for storing/loading configuration files and models, etc."
   ]
  },
  {
   "cell_type": "code",
   "execution_count": 27,
   "id": "ec46f097",
   "metadata": {
    "pycharm": {
     "name": "#%%\n"
    }
   },
   "outputs": [
    {
     "name": "stdout",
     "output_type": "stream",
     "text": [
      "Loading model from /work/data1/wangzixu/backup/sketchmol_model/ep4/last.ckpt\n",
      "LatentDiffusion: Running in eps-prediction mode\n",
      "DiffusionWrapper has 846.74 M params.\n",
      "Keeping EMAs of 688.\n",
      "making attention of type 'vanilla' with 512 in_channels\n",
      "Working with z of shape (1, 4, 32, 32) = 4096 dimensions.\n",
      "making attention of type 'vanilla' with 512 in_channels\n",
      "prepare protein embedder\n",
      "Images will be saved to /work/data1/wangzixu/backup/sketchmol_model/ep4/2024-10-16-14-30-23_exmaple_tutorial/samples\n",
      "===========================================================================\n"
     ]
    }
   ],
   "source": [
    "model, _ = load_model(config, ckpt, gpu, eval_mode)\n",
    "sampling_file = os.path.join(logdir, \"sampling_config.yaml\")\n",
    "sampling_conf = vars(opt)\n",
    "with open(sampling_file, 'w') as f:\n",
    "    yaml.dump(sampling_conf, f, default_flow_style=False)\n",
    "print(\"Images will be saved to\", logdir)\n",
    "print(75 * \"=\")"
   ]
  },
  {
   "cell_type": "markdown",
   "id": "42615991",
   "metadata": {
    "pycharm": {
     "name": "#%% md\n"
    }
   },
   "source": [
    "## For sampling EP4 molecular images "
   ]
  },
  {
   "cell_type": "code",
   "execution_count": 71,
   "id": "cf335f17",
   "metadata": {
    "pycharm": {
     "name": "#%%\n"
    }
   },
   "outputs": [
    {
     "name": "stdout",
     "output_type": "stream",
     "text": [
      "Using DDIM sampling with 250 sampling steps and eta=1.0\n",
      "valid_scale:2.0 property_scale:2.0\n",
      "Your Sample condition is :\n",
      "LogP:None\n",
      "QED:None\n",
      "MW:None\n",
      "TPSA:None\n",
      "HBD:None\n",
      "HBA:None\n",
      "RB:None\n",
      "EP4:1.0\n",
      "AKT1:None\n",
      "ROCK1:None\n",
      "Running conditional sampling for 1 samples\n",
      "each condition have 4 samples\n",
      "so finally, output image is 4\n"
     ]
    },
    {
     "name": "stderr",
     "output_type": "stream",
     "text": [
      "\r",
      "Sampling Batches (conditional):   0%|                                             | 0/1 [00:00<?, ?it/s]"
     ]
    },
    {
     "name": "stdout",
     "output_type": "stream",
     "text": [
      "Data shape for DDIM sampling is (4, 4, 32, 32), eta 1.0\n",
      "Running DDIM Sampling with 250 timesteps\n"
     ]
    },
    {
     "name": "stderr",
     "output_type": "stream",
     "text": [
      "\n",
      "DDIM Sampler:   0%|                                                             | 0/250 [00:00<?, ?it/s]\u001B[A\n",
      "DDIM Sampler:   0%|▏                                                    | 1/250 [00:00<01:07,  3.67it/s]\u001B[A\n",
      "DDIM Sampler:   1%|▍                                                    | 2/250 [00:00<01:05,  3.81it/s]\u001B[A\n",
      "DDIM Sampler:   1%|▋                                                    | 3/250 [00:00<01:03,  3.87it/s]\u001B[A\n",
      "DDIM Sampler:   2%|▊                                                    | 4/250 [00:01<01:03,  3.89it/s]\u001B[A\n",
      "DDIM Sampler:   2%|█                                                    | 5/250 [00:01<01:02,  3.90it/s]\u001B[A\n",
      "DDIM Sampler:   2%|█▎                                                   | 6/250 [00:01<01:02,  3.91it/s]\u001B[A\n",
      "DDIM Sampler:   3%|█▍                                                   | 7/250 [00:01<01:02,  3.91it/s]\u001B[A\n",
      "DDIM Sampler:   3%|█▋                                                   | 8/250 [00:02<01:01,  3.92it/s]\u001B[A\n",
      "DDIM Sampler:   4%|█▉                                                   | 9/250 [00:02<01:01,  3.93it/s]\u001B[A\n",
      "DDIM Sampler:   4%|██                                                  | 10/250 [00:02<01:01,  3.92it/s]\u001B[A\n",
      "DDIM Sampler:   4%|██▎                                                 | 11/250 [00:02<01:00,  3.92it/s]\u001B[A\n",
      "DDIM Sampler:   5%|██▍                                                 | 12/250 [00:03<01:00,  3.92it/s]\u001B[A\n",
      "DDIM Sampler:   5%|██▋                                                 | 13/250 [00:03<01:00,  3.92it/s]\u001B[A\n",
      "DDIM Sampler:   6%|██▉                                                 | 14/250 [00:03<01:00,  3.92it/s]\u001B[A\n",
      "DDIM Sampler:   6%|███                                                 | 15/250 [00:03<00:59,  3.92it/s]\u001B[A\n",
      "DDIM Sampler:   6%|███▎                                                | 16/250 [00:04<00:59,  3.93it/s]\u001B[A\n",
      "DDIM Sampler:   7%|███▌                                                | 17/250 [00:04<00:59,  3.92it/s]\u001B[A\n",
      "DDIM Sampler:   7%|███▋                                                | 18/250 [00:04<00:59,  3.92it/s]\u001B[A\n",
      "DDIM Sampler:   8%|███▉                                                | 19/250 [00:04<00:58,  3.92it/s]\u001B[A\n",
      "DDIM Sampler:   8%|████▏                                               | 20/250 [00:05<00:58,  3.92it/s]\u001B[A\n",
      "DDIM Sampler:   8%|████▎                                               | 21/250 [00:05<00:58,  3.92it/s]\u001B[A\n",
      "DDIM Sampler:   9%|████▌                                               | 22/250 [00:05<00:58,  3.92it/s]\u001B[A\n",
      "DDIM Sampler:   9%|████▊                                               | 23/250 [00:05<00:57,  3.92it/s]\u001B[A\n",
      "DDIM Sampler:  10%|████▉                                               | 24/250 [00:06<00:57,  3.92it/s]\u001B[A\n",
      "DDIM Sampler:  10%|█████▏                                              | 25/250 [00:06<00:57,  3.92it/s]\u001B[A\n",
      "DDIM Sampler:  10%|█████▍                                              | 26/250 [00:06<00:57,  3.92it/s]\u001B[A\n",
      "DDIM Sampler:  11%|█████▌                                              | 27/250 [00:06<00:56,  3.92it/s]\u001B[A\n",
      "DDIM Sampler:  11%|█████▊                                              | 28/250 [00:07<00:56,  3.92it/s]\u001B[A\n",
      "DDIM Sampler:  12%|██████                                              | 29/250 [00:07<00:56,  3.92it/s]\u001B[A\n",
      "DDIM Sampler:  12%|██████▏                                             | 30/250 [00:07<00:56,  3.92it/s]\u001B[A\n",
      "DDIM Sampler:  12%|██████▍                                             | 31/250 [00:07<00:55,  3.92it/s]\u001B[A\n",
      "DDIM Sampler:  13%|██████▋                                             | 32/250 [00:08<00:55,  3.92it/s]\u001B[A\n",
      "DDIM Sampler:  13%|██████▊                                             | 33/250 [00:08<00:55,  3.92it/s]\u001B[A\n",
      "DDIM Sampler:  14%|███████                                             | 34/250 [00:08<00:55,  3.91it/s]\u001B[A\n",
      "DDIM Sampler:  14%|███████▎                                            | 35/250 [00:08<00:54,  3.91it/s]\u001B[A\n",
      "DDIM Sampler:  14%|███████▍                                            | 36/250 [00:09<00:54,  3.92it/s]\u001B[A\n",
      "DDIM Sampler:  15%|███████▋                                            | 37/250 [00:09<00:54,  3.92it/s]\u001B[A\n",
      "DDIM Sampler:  15%|███████▉                                            | 38/250 [00:09<00:54,  3.91it/s]\u001B[A\n",
      "DDIM Sampler:  16%|████████                                            | 39/250 [00:09<00:53,  3.92it/s]\u001B[A\n",
      "DDIM Sampler:  16%|████████▎                                           | 40/250 [00:10<00:53,  3.92it/s]\u001B[A\n",
      "DDIM Sampler:  16%|████████▌                                           | 41/250 [00:10<00:53,  3.92it/s]\u001B[A\n",
      "DDIM Sampler:  17%|████████▋                                           | 42/250 [00:10<00:53,  3.92it/s]\u001B[A\n",
      "DDIM Sampler:  17%|████████▉                                           | 43/250 [00:10<00:52,  3.91it/s]\u001B[A\n",
      "DDIM Sampler:  18%|█████████▏                                          | 44/250 [00:11<00:52,  3.92it/s]\u001B[A\n",
      "DDIM Sampler:  18%|█████████▎                                          | 45/250 [00:11<00:52,  3.91it/s]\u001B[A\n",
      "DDIM Sampler:  18%|█████████▌                                          | 46/250 [00:11<00:52,  3.91it/s]\u001B[A\n",
      "DDIM Sampler:  19%|█████████▊                                          | 47/250 [00:12<00:51,  3.92it/s]\u001B[A\n",
      "DDIM Sampler:  19%|█████████▉                                          | 48/250 [00:12<00:51,  3.92it/s]\u001B[A\n",
      "DDIM Sampler:  20%|██████████▏                                         | 49/250 [00:12<00:51,  3.92it/s]\u001B[A\n",
      "DDIM Sampler:  20%|██████████▍                                         | 50/250 [00:12<00:51,  3.91it/s]\u001B[A\n",
      "DDIM Sampler:  20%|██████████▌                                         | 51/250 [00:13<00:50,  3.92it/s]\u001B[A\n",
      "DDIM Sampler:  21%|██████████▊                                         | 52/250 [00:13<00:50,  3.92it/s]\u001B[A\n",
      "DDIM Sampler:  21%|███████████                                         | 53/250 [00:13<00:50,  3.92it/s]\u001B[A\n",
      "DDIM Sampler:  22%|███████████▏                                        | 54/250 [00:13<00:49,  3.92it/s]\u001B[A\n",
      "DDIM Sampler:  22%|███████████▍                                        | 55/250 [00:14<00:49,  3.92it/s]\u001B[A\n",
      "DDIM Sampler:  22%|███████████▋                                        | 56/250 [00:14<00:49,  3.91it/s]\u001B[A\n",
      "DDIM Sampler:  23%|███████████▊                                        | 57/250 [00:14<00:49,  3.91it/s]\u001B[A\n",
      "DDIM Sampler:  23%|████████████                                        | 58/250 [00:14<00:48,  3.92it/s]\u001B[A\n",
      "DDIM Sampler:  24%|████████████▎                                       | 59/250 [00:15<00:48,  3.92it/s]\u001B[A\n",
      "DDIM Sampler:  24%|████████████▍                                       | 60/250 [00:15<00:48,  3.91it/s]\u001B[A\n",
      "DDIM Sampler:  24%|████████████▋                                       | 61/250 [00:15<00:48,  3.92it/s]\u001B[A\n",
      "DDIM Sampler:  25%|████████████▉                                       | 62/250 [00:15<00:47,  3.92it/s]\u001B[A\n",
      "DDIM Sampler:  25%|█████████████                                       | 63/250 [00:16<00:47,  3.92it/s]\u001B[A\n",
      "DDIM Sampler:  26%|█████████████▎                                      | 64/250 [00:16<00:47,  3.92it/s]\u001B[A\n",
      "DDIM Sampler:  26%|█████████████▌                                      | 65/250 [00:16<00:47,  3.92it/s]\u001B[A\n",
      "DDIM Sampler:  26%|█████████████▋                                      | 66/250 [00:16<00:46,  3.92it/s]\u001B[A\n",
      "DDIM Sampler:  27%|█████████████▉                                      | 67/250 [00:17<00:46,  3.91it/s]\u001B[A\n",
      "DDIM Sampler:  27%|██████████████▏                                     | 68/250 [00:17<00:46,  3.92it/s]\u001B[A\n",
      "DDIM Sampler:  28%|██████████████▎                                     | 69/250 [00:17<00:46,  3.92it/s]\u001B[A\n",
      "DDIM Sampler:  28%|██████████████▌                                     | 70/250 [00:17<00:45,  3.91it/s]\u001B[A\n",
      "DDIM Sampler:  28%|██████████████▊                                     | 71/250 [00:18<00:45,  3.91it/s]\u001B[A\n",
      "DDIM Sampler:  29%|██████████████▉                                     | 72/250 [00:18<00:45,  3.91it/s]\u001B[A\n",
      "DDIM Sampler:  29%|███████████████▏                                    | 73/250 [00:18<00:45,  3.91it/s]\u001B[A\n",
      "DDIM Sampler:  30%|███████████████▍                                    | 74/250 [00:18<00:44,  3.92it/s]\u001B[A\n"
     ]
    },
    {
     "name": "stderr",
     "output_type": "stream",
     "text": [
      "DDIM Sampler:  30%|███████████████▌                                    | 75/250 [00:19<00:44,  3.91it/s]\u001B[A\n",
      "DDIM Sampler:  30%|███████████████▊                                    | 76/250 [00:19<00:44,  3.92it/s]\u001B[A\n",
      "DDIM Sampler:  31%|████████████████                                    | 77/250 [00:19<00:44,  3.92it/s]\u001B[A\n",
      "DDIM Sampler:  31%|████████████████▏                                   | 78/250 [00:19<00:43,  3.91it/s]\u001B[A\n",
      "DDIM Sampler:  32%|████████████████▍                                   | 79/250 [00:20<00:43,  3.92it/s]\u001B[A\n",
      "DDIM Sampler:  32%|████████████████▋                                   | 80/250 [00:20<00:43,  3.91it/s]\u001B[A\n",
      "DDIM Sampler:  32%|████████████████▊                                   | 81/250 [00:20<00:43,  3.91it/s]\u001B[A\n",
      "DDIM Sampler:  33%|█████████████████                                   | 82/250 [00:20<00:42,  3.91it/s]\u001B[A\n",
      "DDIM Sampler:  33%|█████████████████▎                                  | 83/250 [00:21<00:42,  3.92it/s]\u001B[A\n",
      "DDIM Sampler:  34%|█████████████████▍                                  | 84/250 [00:21<00:42,  3.92it/s]\u001B[A\n",
      "DDIM Sampler:  34%|█████████████████▋                                  | 85/250 [00:21<00:42,  3.91it/s]\u001B[A\n",
      "DDIM Sampler:  34%|█████████████████▉                                  | 86/250 [00:21<00:41,  3.91it/s]\u001B[A\n",
      "DDIM Sampler:  35%|██████████████████                                  | 87/250 [00:22<00:41,  3.91it/s]\u001B[A\n",
      "DDIM Sampler:  35%|██████████████████▎                                 | 88/250 [00:22<00:41,  3.92it/s]\u001B[A\n",
      "DDIM Sampler:  36%|██████████████████▌                                 | 89/250 [00:22<00:41,  3.91it/s]\u001B[A\n",
      "DDIM Sampler:  36%|██████████████████▋                                 | 90/250 [00:22<00:40,  3.91it/s]\u001B[A\n",
      "DDIM Sampler:  36%|██████████████████▉                                 | 91/250 [00:23<00:40,  3.91it/s]\u001B[A\n",
      "DDIM Sampler:  37%|███████████████████▏                                | 92/250 [00:23<00:40,  3.92it/s]\u001B[A\n",
      "DDIM Sampler:  37%|███████████████████▎                                | 93/250 [00:23<00:40,  3.91it/s]\u001B[A\n",
      "DDIM Sampler:  38%|███████████████████▌                                | 94/250 [00:24<00:39,  3.92it/s]\u001B[A\n",
      "DDIM Sampler:  38%|███████████████████▊                                | 95/250 [00:24<00:39,  3.92it/s]\u001B[A\n",
      "DDIM Sampler:  38%|███████████████████▉                                | 96/250 [00:24<00:39,  3.92it/s]\u001B[A\n",
      "DDIM Sampler:  39%|████████████████████▏                               | 97/250 [00:24<00:39,  3.92it/s]\u001B[A\n",
      "DDIM Sampler:  39%|████████████████████▍                               | 98/250 [00:25<00:38,  3.92it/s]\u001B[A\n",
      "DDIM Sampler:  40%|████████████████████▌                               | 99/250 [00:25<00:38,  3.91it/s]\u001B[A\n",
      "DDIM Sampler:  40%|████████████████████▍                              | 100/250 [00:25<00:38,  3.92it/s]\u001B[A\n",
      "DDIM Sampler:  40%|████████████████████▌                              | 101/250 [00:25<00:37,  3.92it/s]\u001B[A\n",
      "DDIM Sampler:  41%|████████████████████▊                              | 102/250 [00:26<00:37,  3.92it/s]\u001B[A\n",
      "DDIM Sampler:  41%|█████████████████████                              | 103/250 [00:26<00:37,  3.91it/s]\u001B[A\n",
      "DDIM Sampler:  42%|█████████████████████▏                             | 104/250 [00:26<00:37,  3.91it/s]\u001B[A\n",
      "DDIM Sampler:  42%|█████████████████████▍                             | 105/250 [00:26<00:37,  3.91it/s]\u001B[A\n",
      "DDIM Sampler:  42%|█████████████████████▌                             | 106/250 [00:27<00:36,  3.92it/s]\u001B[A\n",
      "DDIM Sampler:  43%|█████████████████████▊                             | 107/250 [00:27<00:36,  3.91it/s]\u001B[A\n",
      "DDIM Sampler:  43%|██████████████████████                             | 108/250 [00:27<00:36,  3.91it/s]\u001B[A\n",
      "DDIM Sampler:  44%|██████████████████████▏                            | 109/250 [00:27<00:36,  3.91it/s]\u001B[A\n",
      "DDIM Sampler:  44%|██████████████████████▍                            | 110/250 [00:28<00:35,  3.91it/s]\u001B[A\n",
      "DDIM Sampler:  44%|██████████████████████▋                            | 111/250 [00:28<00:35,  3.91it/s]\u001B[A\n",
      "DDIM Sampler:  45%|██████████████████████▊                            | 112/250 [00:28<00:35,  3.91it/s]\u001B[A\n",
      "DDIM Sampler:  45%|███████████████████████                            | 113/250 [00:28<00:35,  3.91it/s]\u001B[A\n",
      "DDIM Sampler:  46%|███████████████████████▎                           | 114/250 [00:29<00:34,  3.92it/s]\u001B[A\n",
      "DDIM Sampler:  46%|███████████████████████▍                           | 115/250 [00:29<00:34,  3.91it/s]\u001B[A\n",
      "DDIM Sampler:  46%|███████████████████████▋                           | 116/250 [00:29<00:34,  3.92it/s]\u001B[A\n",
      "DDIM Sampler:  47%|███████████████████████▊                           | 117/250 [00:29<00:33,  3.92it/s]\u001B[A\n",
      "DDIM Sampler:  47%|████████████████████████                           | 118/250 [00:30<00:33,  3.91it/s]\u001B[A\n",
      "DDIM Sampler:  48%|████████████████████████▎                          | 119/250 [00:30<00:33,  3.91it/s]\u001B[A\n",
      "DDIM Sampler:  48%|████████████████████████▍                          | 120/250 [00:30<00:33,  3.91it/s]\u001B[A\n",
      "DDIM Sampler:  48%|████████████████████████▋                          | 121/250 [00:30<00:32,  3.91it/s]\u001B[A\n",
      "DDIM Sampler:  49%|████████████████████████▉                          | 122/250 [00:31<00:32,  3.91it/s]\u001B[A\n",
      "DDIM Sampler:  49%|█████████████████████████                          | 123/250 [00:31<00:32,  3.90it/s]\u001B[A\n",
      "DDIM Sampler:  50%|█████████████████████████▎                         | 124/250 [00:31<00:32,  3.90it/s]\u001B[A\n",
      "DDIM Sampler:  50%|█████████████████████████▌                         | 125/250 [00:31<00:31,  3.91it/s]\u001B[A\n",
      "DDIM Sampler:  50%|█████████████████████████▋                         | 126/250 [00:32<00:31,  3.91it/s]\u001B[A\n",
      "DDIM Sampler:  51%|█████████████████████████▉                         | 127/250 [00:32<00:31,  3.91it/s]\u001B[A\n",
      "DDIM Sampler:  51%|██████████████████████████                         | 128/250 [00:32<00:31,  3.91it/s]\u001B[A\n",
      "DDIM Sampler:  52%|██████████████████████████▎                        | 129/250 [00:32<00:30,  3.91it/s]\u001B[A\n",
      "DDIM Sampler:  52%|██████████████████████████▌                        | 130/250 [00:33<00:30,  3.91it/s]\u001B[A\n",
      "DDIM Sampler:  52%|██████████████████████████▋                        | 131/250 [00:33<00:30,  3.91it/s]\u001B[A\n",
      "DDIM Sampler:  53%|██████████████████████████▉                        | 132/250 [00:33<00:30,  3.90it/s]\u001B[A\n",
      "DDIM Sampler:  53%|███████████████████████████▏                       | 133/250 [00:33<00:29,  3.91it/s]\u001B[A\n",
      "DDIM Sampler:  54%|███████████████████████████▎                       | 134/250 [00:34<00:29,  3.91it/s]\u001B[A\n",
      "DDIM Sampler:  54%|███████████████████████████▌                       | 135/250 [00:34<00:29,  3.91it/s]\u001B[A\n",
      "DDIM Sampler:  54%|███████████████████████████▋                       | 136/250 [00:34<00:29,  3.92it/s]\u001B[A\n",
      "DDIM Sampler:  55%|███████████████████████████▉                       | 137/250 [00:35<00:28,  3.91it/s]\u001B[A\n",
      "DDIM Sampler:  55%|████████████████████████████▏                      | 138/250 [00:35<00:28,  3.91it/s]\u001B[A\n",
      "DDIM Sampler:  56%|████████████████████████████▎                      | 139/250 [00:35<00:28,  3.91it/s]\u001B[A\n",
      "DDIM Sampler:  56%|████████████████████████████▌                      | 140/250 [00:35<00:28,  3.91it/s]\u001B[A\n",
      "DDIM Sampler:  56%|████████████████████████████▊                      | 141/250 [00:36<00:27,  3.92it/s]\u001B[A\n",
      "DDIM Sampler:  57%|████████████████████████████▉                      | 142/250 [00:36<00:27,  3.91it/s]\u001B[A\n",
      "DDIM Sampler:  57%|█████████████████████████████▏                     | 143/250 [00:36<00:27,  3.90it/s]\u001B[A\n",
      "DDIM Sampler:  58%|█████████████████████████████▍                     | 144/250 [00:36<00:27,  3.90it/s]\u001B[A\n",
      "DDIM Sampler:  58%|█████████████████████████████▌                     | 145/250 [00:37<00:26,  3.90it/s]\u001B[A\n",
      "DDIM Sampler:  58%|█████████████████████████████▊                     | 146/250 [00:37<00:26,  3.90it/s]\u001B[A\n",
      "DDIM Sampler:  59%|█████████████████████████████▉                     | 147/250 [00:37<00:26,  3.90it/s]\u001B[A\n",
      "DDIM Sampler:  59%|██████████████████████████████▏                    | 148/250 [00:37<00:26,  3.90it/s]\u001B[A\n",
      "DDIM Sampler:  60%|██████████████████████████████▍                    | 149/250 [00:38<00:25,  3.90it/s]\u001B[A\n"
     ]
    },
    {
     "name": "stderr",
     "output_type": "stream",
     "text": [
      "DDIM Sampler:  60%|██████████████████████████████▌                    | 150/250 [00:38<00:25,  3.90it/s]\u001B[A\n",
      "DDIM Sampler:  60%|██████████████████████████████▊                    | 151/250 [00:38<00:25,  3.90it/s]\u001B[A\n",
      "DDIM Sampler:  61%|███████████████████████████████                    | 152/250 [00:38<00:25,  3.90it/s]\u001B[A\n",
      "DDIM Sampler:  61%|███████████████████████████████▏                   | 153/250 [00:39<00:24,  3.91it/s]\u001B[A\n",
      "DDIM Sampler:  62%|███████████████████████████████▍                   | 154/250 [00:39<00:24,  3.91it/s]\u001B[A\n",
      "DDIM Sampler:  62%|███████████████████████████████▌                   | 155/250 [00:39<00:24,  3.90it/s]\u001B[A\n",
      "DDIM Sampler:  62%|███████████████████████████████▊                   | 156/250 [00:39<00:24,  3.91it/s]\u001B[A\n",
      "DDIM Sampler:  63%|████████████████████████████████                   | 157/250 [00:40<00:23,  3.91it/s]\u001B[A\n",
      "DDIM Sampler:  63%|████████████████████████████████▏                  | 158/250 [00:40<00:23,  3.91it/s]\u001B[A\n",
      "DDIM Sampler:  64%|████████████████████████████████▍                  | 159/250 [00:40<00:23,  3.91it/s]\u001B[A\n",
      "DDIM Sampler:  64%|████████████████████████████████▋                  | 160/250 [00:40<00:23,  3.91it/s]\u001B[A\n",
      "DDIM Sampler:  64%|████████████████████████████████▊                  | 161/250 [00:41<00:22,  3.91it/s]\u001B[A\n",
      "DDIM Sampler:  65%|█████████████████████████████████                  | 162/250 [00:41<00:22,  3.91it/s]\u001B[A\n",
      "DDIM Sampler:  65%|█████████████████████████████████▎                 | 163/250 [00:41<00:22,  3.91it/s]\u001B[A\n",
      "DDIM Sampler:  66%|█████████████████████████████████▍                 | 164/250 [00:41<00:21,  3.91it/s]\u001B[A\n",
      "DDIM Sampler:  66%|█████████████████████████████████▋                 | 165/250 [00:42<00:21,  3.91it/s]\u001B[A\n",
      "DDIM Sampler:  66%|█████████████████████████████████▊                 | 166/250 [00:42<00:21,  3.91it/s]\u001B[A\n",
      "DDIM Sampler:  67%|██████████████████████████████████                 | 167/250 [00:42<00:21,  3.91it/s]\u001B[A\n",
      "DDIM Sampler:  67%|██████████████████████████████████▎                | 168/250 [00:42<00:20,  3.91it/s]\u001B[A\n",
      "DDIM Sampler:  68%|██████████████████████████████████▍                | 169/250 [00:43<00:20,  3.91it/s]\u001B[A\n",
      "DDIM Sampler:  68%|██████████████████████████████████▋                | 170/250 [00:43<00:20,  3.91it/s]\u001B[A\n",
      "DDIM Sampler:  68%|██████████████████████████████████▉                | 171/250 [00:43<00:20,  3.91it/s]\u001B[A\n",
      "DDIM Sampler:  69%|███████████████████████████████████                | 172/250 [00:43<00:19,  3.91it/s]\u001B[A\n",
      "DDIM Sampler:  69%|███████████████████████████████████▎               | 173/250 [00:44<00:19,  3.91it/s]\u001B[A\n",
      "DDIM Sampler:  70%|███████████████████████████████████▍               | 174/250 [00:44<00:19,  3.91it/s]\u001B[A\n",
      "DDIM Sampler:  70%|███████████████████████████████████▋               | 175/250 [00:44<00:19,  3.90it/s]\u001B[A\n",
      "DDIM Sampler:  70%|███████████████████████████████████▉               | 176/250 [00:44<00:18,  3.91it/s]\u001B[A\n",
      "DDIM Sampler:  71%|████████████████████████████████████               | 177/250 [00:45<00:18,  3.92it/s]\u001B[A\n",
      "DDIM Sampler:  71%|████████████████████████████████████▎              | 178/250 [00:45<00:18,  3.91it/s]\u001B[A\n",
      "DDIM Sampler:  72%|████████████████████████████████████▌              | 179/250 [00:45<00:18,  3.91it/s]\u001B[A\n",
      "DDIM Sampler:  72%|████████████████████████████████████▋              | 180/250 [00:46<00:17,  3.91it/s]\u001B[A\n",
      "DDIM Sampler:  72%|████████████████████████████████████▉              | 181/250 [00:46<00:17,  3.91it/s]\u001B[A\n",
      "DDIM Sampler:  73%|█████████████████████████████████████▏             | 182/250 [00:46<00:17,  3.90it/s]\u001B[A\n",
      "DDIM Sampler:  73%|█████████████████████████████████████▎             | 183/250 [00:46<00:17,  3.90it/s]\u001B[A\n",
      "DDIM Sampler:  74%|█████████████████████████████████████▌             | 184/250 [00:47<00:16,  3.90it/s]\u001B[A\n",
      "DDIM Sampler:  74%|█████████████████████████████████████▋             | 185/250 [00:47<00:16,  3.90it/s]\u001B[A\n",
      "DDIM Sampler:  74%|█████████████████████████████████████▉             | 186/250 [00:47<00:16,  3.90it/s]\u001B[A\n",
      "DDIM Sampler:  75%|██████████████████████████████████████▏            | 187/250 [00:47<00:16,  3.90it/s]\u001B[A\n",
      "DDIM Sampler:  75%|██████████████████████████████████████▎            | 188/250 [00:48<00:15,  3.91it/s]\u001B[A\n",
      "DDIM Sampler:  76%|██████████████████████████████████████▌            | 189/250 [00:48<00:15,  3.91it/s]\u001B[A\n",
      "DDIM Sampler:  76%|██████████████████████████████████████▊            | 190/250 [00:48<00:15,  3.91it/s]\u001B[A\n",
      "DDIM Sampler:  76%|██████████████████████████████████████▉            | 191/250 [00:48<00:15,  3.91it/s]\u001B[A\n",
      "DDIM Sampler:  77%|███████████████████████████████████████▏           | 192/250 [00:49<00:14,  3.91it/s]\u001B[A\n",
      "DDIM Sampler:  77%|███████████████████████████████████████▎           | 193/250 [00:49<00:14,  3.91it/s]\u001B[A\n",
      "DDIM Sampler:  78%|███████████████████████████████████████▌           | 194/250 [00:49<00:14,  3.90it/s]\u001B[A\n",
      "DDIM Sampler:  78%|███████████████████████████████████████▊           | 195/250 [00:49<00:14,  3.90it/s]\u001B[A\n",
      "DDIM Sampler:  78%|███████████████████████████████████████▉           | 196/250 [00:50<00:13,  3.90it/s]\u001B[A\n",
      "DDIM Sampler:  79%|████████████████████████████████████████▏          | 197/250 [00:50<00:13,  3.90it/s]\u001B[A\n",
      "DDIM Sampler:  79%|████████████████████████████████████████▍          | 198/250 [00:50<00:13,  3.90it/s]\u001B[A\n",
      "DDIM Sampler:  80%|████████████████████████████████████████▌          | 199/250 [00:50<00:13,  3.91it/s]\u001B[A\n",
      "DDIM Sampler:  80%|████████████████████████████████████████▊          | 200/250 [00:51<00:12,  3.90it/s]\u001B[A\n",
      "DDIM Sampler:  80%|█████████████████████████████████████████          | 201/250 [00:51<00:12,  3.89it/s]\u001B[A\n",
      "DDIM Sampler:  81%|█████████████████████████████████████████▏         | 202/250 [00:51<00:12,  3.89it/s]\u001B[A\n",
      "DDIM Sampler:  81%|█████████████████████████████████████████▍         | 203/250 [00:51<00:12,  3.90it/s]\u001B[A\n",
      "DDIM Sampler:  82%|█████████████████████████████████████████▌         | 204/250 [00:52<00:11,  3.89it/s]\u001B[A\n",
      "DDIM Sampler:  82%|█████████████████████████████████████████▊         | 205/250 [00:52<00:11,  3.90it/s]\u001B[A\n",
      "DDIM Sampler:  82%|██████████████████████████████████████████         | 206/250 [00:52<00:11,  3.90it/s]\u001B[A\n",
      "DDIM Sampler:  83%|██████████████████████████████████████████▏        | 207/250 [00:52<00:11,  3.90it/s]\u001B[A\n",
      "DDIM Sampler:  83%|██████████████████████████████████████████▍        | 208/250 [00:53<00:10,  3.90it/s]\u001B[A\n",
      "DDIM Sampler:  84%|██████████████████████████████████████████▋        | 209/250 [00:53<00:10,  3.90it/s]\u001B[A\n",
      "DDIM Sampler:  84%|██████████████████████████████████████████▊        | 210/250 [00:53<00:10,  3.89it/s]\u001B[A\n",
      "DDIM Sampler:  84%|███████████████████████████████████████████        | 211/250 [00:53<00:10,  3.89it/s]\u001B[A\n",
      "DDIM Sampler:  85%|███████████████████████████████████████████▏       | 212/250 [00:54<00:09,  3.90it/s]\u001B[A\n",
      "DDIM Sampler:  85%|███████████████████████████████████████████▍       | 213/250 [00:54<00:09,  3.90it/s]\u001B[A\n",
      "DDIM Sampler:  86%|███████████████████████████████████████████▋       | 214/250 [00:54<00:09,  3.91it/s]\u001B[A\n",
      "DDIM Sampler:  86%|███████████████████████████████████████████▊       | 215/250 [00:54<00:08,  3.91it/s]\u001B[A\n",
      "DDIM Sampler:  86%|████████████████████████████████████████████       | 216/250 [00:55<00:08,  3.91it/s]\u001B[A\n",
      "DDIM Sampler:  87%|████████████████████████████████████████████▎      | 217/250 [00:55<00:08,  3.90it/s]\u001B[A\n",
      "DDIM Sampler:  87%|████████████████████████████████████████████▍      | 218/250 [00:55<00:08,  3.90it/s]\u001B[A\n",
      "DDIM Sampler:  88%|████████████████████████████████████████████▋      | 219/250 [00:56<00:07,  3.90it/s]\u001B[A\n",
      "DDIM Sampler:  88%|████████████████████████████████████████████▉      | 220/250 [00:56<00:07,  3.91it/s]\u001B[A\n",
      "DDIM Sampler:  88%|█████████████████████████████████████████████      | 221/250 [00:56<00:07,  3.90it/s]\u001B[A\n",
      "DDIM Sampler:  89%|█████████████████████████████████████████████▎     | 222/250 [00:56<00:07,  3.90it/s]\u001B[A\n",
      "DDIM Sampler:  89%|█████████████████████████████████████████████▍     | 223/250 [00:57<00:06,  3.91it/s]\u001B[A\n",
      "DDIM Sampler:  90%|█████████████████████████████████████████████▋     | 224/250 [00:57<00:06,  3.91it/s]\u001B[A\n"
     ]
    },
    {
     "name": "stderr",
     "output_type": "stream",
     "text": [
      "DDIM Sampler:  90%|█████████████████████████████████████████████▉     | 225/250 [00:57<00:06,  3.90it/s]\u001B[A\n",
      "DDIM Sampler:  90%|██████████████████████████████████████████████     | 226/250 [00:57<00:06,  3.90it/s]\u001B[A\n",
      "DDIM Sampler:  91%|██████████████████████████████████████████████▎    | 227/250 [00:58<00:05,  3.90it/s]\u001B[A\n",
      "DDIM Sampler:  91%|██████████████████████████████████████████████▌    | 228/250 [00:58<00:05,  3.90it/s]\u001B[A\n",
      "DDIM Sampler:  92%|██████████████████████████████████████████████▋    | 229/250 [00:58<00:05,  3.90it/s]\u001B[A\n",
      "DDIM Sampler:  92%|██████████████████████████████████████████████▉    | 230/250 [00:58<00:05,  3.90it/s]\u001B[A\n",
      "DDIM Sampler:  92%|███████████████████████████████████████████████    | 231/250 [00:59<00:04,  3.90it/s]\u001B[A\n",
      "DDIM Sampler:  93%|███████████████████████████████████████████████▎   | 232/250 [00:59<00:04,  3.90it/s]\u001B[A\n",
      "DDIM Sampler:  93%|███████████████████████████████████████████████▌   | 233/250 [00:59<00:04,  3.90it/s]\u001B[A\n",
      "DDIM Sampler:  94%|███████████████████████████████████████████████▋   | 234/250 [00:59<00:04,  3.89it/s]\u001B[A\n",
      "DDIM Sampler:  94%|███████████████████████████████████████████████▉   | 235/250 [01:00<00:03,  3.89it/s]\u001B[A\n",
      "DDIM Sampler:  94%|████████████████████████████████████████████████▏  | 236/250 [01:00<00:03,  3.89it/s]\u001B[A\n",
      "DDIM Sampler:  95%|████████████████████████████████████████████████▎  | 237/250 [01:00<00:03,  3.90it/s]\u001B[A\n",
      "DDIM Sampler:  95%|████████████████████████████████████████████████▌  | 238/250 [01:00<00:03,  3.90it/s]\u001B[A\n",
      "DDIM Sampler:  96%|████████████████████████████████████████████████▊  | 239/250 [01:01<00:02,  3.90it/s]\u001B[A\n",
      "DDIM Sampler:  96%|████████████████████████████████████████████████▉  | 240/250 [01:01<00:02,  3.89it/s]\u001B[A\n",
      "DDIM Sampler:  96%|█████████████████████████████████████████████████▏ | 241/250 [01:01<00:02,  3.90it/s]\u001B[A\n",
      "DDIM Sampler:  97%|█████████████████████████████████████████████████▎ | 242/250 [01:01<00:02,  3.90it/s]\u001B[A\n",
      "DDIM Sampler:  97%|█████████████████████████████████████████████████▌ | 243/250 [01:02<00:01,  3.90it/s]\u001B[A\n",
      "DDIM Sampler:  98%|█████████████████████████████████████████████████▊ | 244/250 [01:02<00:01,  3.90it/s]\u001B[A\n",
      "DDIM Sampler:  98%|█████████████████████████████████████████████████▉ | 245/250 [01:02<00:01,  3.90it/s]\u001B[A\n",
      "DDIM Sampler:  98%|██████████████████████████████████████████████████▏| 246/250 [01:02<00:01,  3.91it/s]\u001B[A\n",
      "DDIM Sampler:  99%|██████████████████████████████████████████████████▍| 247/250 [01:03<00:00,  3.90it/s]\u001B[A\n",
      "DDIM Sampler:  99%|██████████████████████████████████████████████████▌| 248/250 [01:03<00:00,  3.90it/s]\u001B[A\n",
      "DDIM Sampler: 100%|██████████████████████████████████████████████████▊| 249/250 [01:03<00:00,  3.89it/s]\u001B[A\n",
      "DDIM Sampler: 100%|███████████████████████████████████████████████████| 250/250 [01:03<00:00,  3.91it/s]\u001B[A\n",
      "Sampling Batches (conditional): 100%|█████████████████████████████████████| 1/1 [01:04<00:00, 64.30s/it]"
     ]
    },
    {
     "name": "stdout",
     "output_type": "stream",
     "text": [
      "path save to /work/data1/wangzixu/backup/sketchmol_model/ep4/2024-10-16-15-36-25_exmaple_tutorial/samples/image_path.csv\n",
      "done.\n"
     ]
    },
    {
     "name": "stderr",
     "output_type": "stream",
     "text": [
      "\n"
     ]
    }
   ],
   "source": [
    "sample_ep4_mol(model, imglogdir=imglogdir, eta=opt.eta, scale=opt.scale, logdir=logdir,\n",
    "    vanilla=opt.vanilla_sample, n_samples=opt.n_samples, custom_steps=opt.custom_steps,\n",
    "    conditional_count=opt.conditional_count,\n",
    "    condition_type=opt.condition_type, \n",
    "    preset_str=opt.preset_str, tri_mode=opt.tri, scale_pro=opt.scale_pro)"
   ]
  },
  {
   "cell_type": "markdown",
   "id": "0147574c",
   "metadata": {
    "pycharm": {
     "name": "#%% md\n"
    }
   },
   "source": [
    "print these generated images "
   ]
  },
  {
   "cell_type": "code",
   "execution_count": 73,
   "id": "f689c967",
   "metadata": {
    "pycharm": {
     "name": "#%%\n"
    }
   },
   "outputs": [
    {
     "data": {
      "image/png": "[encoded data removed]",
      "text/plain": [
       "<Figure size 800x400 with 4 Axes>"
      ]
     },
     "metadata": {},
     "output_type": "display_data"
    }
   ],
   "source": [
    "generated_csv_file = \"path to your generated images\"\n",
    "df = pd.read_csv(generated_csv_file)\n",
    "image_paths = df['image_path'].tolist() \n",
    "num_images = len(image_paths)\n",
    "images_per_row = 4\n",
    "num_rows = (num_images + images_per_row - 1) // images_per_row\n",
    "\n",
    "fig, axes = plt.subplots(num_rows, images_per_row, figsize=(images_per_row * 2, num_rows * 4))\n",
    "axes = axes.flatten()  \n",
    "\n",
    "for i, image_path in enumerate(image_paths):\n",
    "    img = Image.open(image_path)\n",
    "    axes[i].imshow(img)\n",
    "    axes[i].axis('off') \n",
    "for j in range(i + 1, len(axes)):\n",
    "    axes[j].axis('off')\n",
    "plt.tight_layout()\n",
    "plt.show()"
   ]
  },
  {
   "cell_type": "markdown",
   "id": "2ef12c43",
   "metadata": {
    "pycharm": {
     "name": "#%% md\n"
    }
   },
   "source": [
    "## For EP4 fragment growing"
   ]
  },
  {
   "cell_type": "markdown",
   "id": "50bbca5b",
   "metadata": {
    "pycharm": {
     "name": "#%% md\n"
    }
   },
   "source": [
    " You need to input a CSV file (--validation_dataset your_inpainting.csv). The Path column stores the molecules to be processed, and the \"Path_keep\" column stores the fragment region you want to retain (sketchmol will mask other areas)."
   ]
  },
  {
   "cell_type": "markdown",
   "id": "ba07c7cc",
   "metadata": {
    "pycharm": {
     "name": "#%% md\n"
    }
   },
   "source": [
    "In this example, we first prepare a starting molecule."
   ]
  },
  {
   "cell_type": "code",
   "execution_count": 39,
   "id": "8a92d1a8",
   "metadata": {
    "pycharm": {
     "name": "#%%\n"
    }
   },
   "outputs": [
    {
     "data": {
      "image/png": "[encoded data removed]",
      "text/plain": [
       "<Figure size 200x200 with 1 Axes>"
      ]
     },
     "metadata": {},
     "output_type": "display_data"
    }
   ],
   "source": [
    "example_df = pd.read_csv(opt.validation_dataset)\n",
    "start_molecule_image_path = example_df['Path'].iloc[0]\n",
    "img = Image.open(start_molecule_image_path)\n",
    "plt.figure(figsize=(2,2))\n",
    "plt.imshow(img)\n",
    "plt.axis('off') \n",
    "plt.show()"
   ]
  },
  {
   "cell_type": "markdown",
   "id": "46774616",
   "metadata": {
    "pycharm": {
     "name": "#%% md\n"
    }
   },
   "source": [
    "At the same time, you need to prepare the fragment you want to save as the starting point for generation."
   ]
  },
  {
   "cell_type": "code",
   "execution_count": 42,
   "id": "b612075f",
   "metadata": {
    "scrolled": true,
    "pycharm": {
     "name": "#%%\n"
    }
   },
   "outputs": [
    {
     "data": {
      "image/png": "[encoded data removed]",
      "text/plain": [
       "<Figure size 400x200 with 2 Axes>"
      ]
     },
     "metadata": {},
     "output_type": "display_data"
    }
   ],
   "source": [
    "fragment_paths = example_df['Path_keep'].tolist() \n",
    "num_images = len(fragment_paths)\n",
    "images_per_row = 2\n",
    "num_rows = (num_images + images_per_row - 1) // images_per_row\n",
    "\n",
    "fig, axes = plt.subplots(num_rows, images_per_row, figsize=(2 * images_per_row, 2 * num_rows)) \n",
    "axes = axes.flatten()  \n",
    "\n",
    "for i, fragment_path in enumerate(fragment_paths):\n",
    "    img = Image.open(fragment_path)\n",
    "    axes[i].imshow(img, cmap='gray', interpolation='none')  \n",
    "    axes[i].axis('off')  \n",
    "for j in range(i + 1, len(axes)):\n",
    "    axes[j].axis('off')\n",
    "plt.tight_layout()\n",
    "plt.show()"
   ]
  },
  {
   "cell_type": "markdown",
   "id": "0a5903b7",
   "metadata": {
    "pycharm": {
     "name": "#%% md\n"
    }
   },
   "source": [
    "During the generation process, SketchMol can recognize the retained region and fill in the remaining areas. "
   ]
  },
  {
   "cell_type": "code",
   "execution_count": 48,
   "id": "deb86e4c",
   "metadata": {
    "pycharm": {
     "name": "#%%\n"
    }
   },
   "outputs": [
    {
     "data": {
      "image/png": "[encoded data removed]",
      "text/plain": [
       "<Figure size 400x200 with 2 Axes>"
      ]
     },
     "metadata": {},
     "output_type": "display_data"
    }
   ],
   "source": [
    "original_paths = example_df['Path'].tolist()  \n",
    "mask_paths = example_df['Path_keep'].tolist()  \n",
    "\n",
    "num_images = len(original_paths)\n",
    "images_per_row = 2\n",
    "\n",
    "num_rows = (num_images + images_per_row - 1) // images_per_row\n",
    "\n",
    "fig, axes = plt.subplots(num_rows, images_per_row, figsize=(2 * images_per_row, num_rows * 2))\n",
    "axes = axes.flatten()\n",
    "\n",
    "for i, (original_path, mask_path) in enumerate(zip(original_paths, mask_paths)):\n",
    "    img = Image.open(original_path).convert(\"RGBA\")\n",
    "    mask = Image.open(mask_path).convert(\"RGBA\")\n",
    "    \n",
    "    blended_mask = Image.blend(img, mask, alpha=0.7)\n",
    "    \n",
    "    axes[i].imshow(blended_mask)\n",
    "    axes[i].axis('off') \n",
    "\n",
    "for j in range(i + 1, len(axes)):\n",
    "    axes[j].axis('off')\n",
    "\n",
    "plt.tight_layout()\n",
    "plt.show()"
   ]
  },
  {
   "cell_type": "markdown",
   "id": "91438301",
   "metadata": {
    "pycharm": {
     "name": "#%% md\n"
    }
   },
   "source": [
    "Let's try generating a batch of molecules based on the preselected fragment."
   ]
  },
  {
   "cell_type": "code",
   "execution_count": 64,
   "id": "d9f24b38",
   "metadata": {
    "pycharm": {
     "name": "#%%\n"
    }
   },
   "outputs": [
    {
     "name": "stdout",
     "output_type": "stream",
     "text": [
      "valid_scale:2.0 property_scale:2.0\n",
      "Your Sample condition is :\n",
      "LogP:None\n",
      "QED:None\n",
      "MW:None\n",
      "TPSA:None\n",
      "HBD:None\n",
      "HBA:None\n",
      "RB:None\n",
      "EP4:1.0\n",
      "AKT1:None\n",
      "ROCK1:None\n",
      "each condition have 4 samples\n",
      "read from ./scripts/inpainting_csv/example_fragment_grow.csv\n"
     ]
    },
    {
     "name": "stderr",
     "output_type": "stream",
     "text": [
      "\r",
      "Sampling Batches (conditional):   0%|                                             | 0/2 [00:00<?, ?it/s]"
     ]
    },
    {
     "name": "stdout",
     "output_type": "stream",
     "text": [
      "Data shape for DDIM sampling is (4, 4, 32, 32), eta 1.0\n",
      "Running DDIM Sampling with 250 timesteps\n",
      "Running repaint with 1 timesteps\n"
     ]
    },
    {
     "name": "stderr",
     "output_type": "stream",
     "text": [
      "\n",
      "DDIM Sampler:   0%|                                                             | 0/250 [00:00<?, ?it/s]\u001B[A\n",
      "DDIM Sampler:   0%|▏                                                    | 1/250 [00:00<02:10,  1.91it/s]\u001B[A\n",
      "DDIM Sampler:   1%|▍                                                    | 2/250 [00:01<02:07,  1.95it/s]\u001B[A\n",
      "DDIM Sampler:   1%|▋                                                    | 3/250 [00:01<02:05,  1.96it/s]\u001B[A\n",
      "DDIM Sampler:   2%|▊                                                    | 4/250 [00:02<02:05,  1.97it/s]\u001B[A\n",
      "DDIM Sampler:   2%|█                                                    | 5/250 [00:02<02:04,  1.97it/s]\u001B[A\n",
      "DDIM Sampler:   2%|█▎                                                   | 6/250 [00:03<02:03,  1.97it/s]\u001B[A\n",
      "DDIM Sampler:   3%|█▍                                                   | 7/250 [00:03<02:03,  1.97it/s]\u001B[A\n",
      "DDIM Sampler:   3%|█▋                                                   | 8/250 [00:04<02:02,  1.97it/s]\u001B[A\n",
      "DDIM Sampler:   4%|█▉                                                   | 9/250 [00:04<02:02,  1.97it/s]\u001B[A\n",
      "DDIM Sampler:   4%|██                                                  | 10/250 [00:05<02:01,  1.97it/s]\u001B[A\n",
      "DDIM Sampler:   4%|██▎                                                 | 11/250 [00:05<02:01,  1.97it/s]\u001B[A\n",
      "DDIM Sampler:   5%|██▍                                                 | 12/250 [00:06<02:00,  1.97it/s]\u001B[A\n",
      "DDIM Sampler:   5%|██▋                                                 | 13/250 [00:06<02:00,  1.97it/s]\u001B[A\n",
      "DDIM Sampler:   6%|██▉                                                 | 14/250 [00:07<01:59,  1.98it/s]\u001B[A\n",
      "DDIM Sampler:   6%|███                                                 | 15/250 [00:07<01:59,  1.97it/s]\u001B[A\n",
      "DDIM Sampler:   6%|███▎                                                | 16/250 [00:08<01:58,  1.97it/s]\u001B[A\n",
      "DDIM Sampler:   7%|███▌                                                | 17/250 [00:08<01:57,  1.98it/s]\u001B[A\n",
      "DDIM Sampler:   7%|███▋                                                | 18/250 [00:09<01:57,  1.98it/s]\u001B[A\n",
      "DDIM Sampler:   8%|███▉                                                | 19/250 [00:09<01:57,  1.97it/s]\u001B[A\n",
      "DDIM Sampler:   8%|████▏                                               | 20/250 [00:10<01:56,  1.97it/s]\u001B[A\n",
      "DDIM Sampler:   8%|████▎                                               | 21/250 [00:10<01:55,  1.97it/s]\u001B[A\n",
      "DDIM Sampler:   9%|████▌                                               | 22/250 [00:11<01:55,  1.98it/s]\u001B[A\n",
      "DDIM Sampler:   9%|████▊                                               | 23/250 [00:11<01:54,  1.98it/s]\u001B[A\n",
      "DDIM Sampler:  10%|████▉                                               | 24/250 [00:12<01:54,  1.97it/s]\u001B[A\n",
      "DDIM Sampler:  10%|█████▏                                              | 25/250 [00:12<01:54,  1.97it/s]\u001B[A\n",
      "DDIM Sampler:  10%|█████▍                                              | 26/250 [00:13<01:53,  1.97it/s]\u001B[A\n",
      "DDIM Sampler:  11%|█████▌                                              | 27/250 [00:13<01:52,  1.97it/s]\u001B[A\n",
      "DDIM Sampler:  11%|█████▊                                              | 28/250 [00:14<01:52,  1.97it/s]\u001B[A\n",
      "DDIM Sampler:  12%|██████                                              | 29/250 [00:14<01:52,  1.97it/s]\u001B[A\n",
      "DDIM Sampler:  12%|██████▏                                             | 30/250 [00:15<01:51,  1.97it/s]\u001B[A\n",
      "DDIM Sampler:  12%|██████▍                                             | 31/250 [00:15<01:50,  1.97it/s]\u001B[A\n",
      "DDIM Sampler:  13%|██████▋                                             | 32/250 [00:16<01:50,  1.97it/s]\u001B[A\n",
      "DDIM Sampler:  13%|██████▊                                             | 33/250 [00:16<01:49,  1.97it/s]\u001B[A\n",
      "DDIM Sampler:  14%|███████                                             | 34/250 [00:17<01:49,  1.98it/s]\u001B[A\n",
      "DDIM Sampler:  14%|███████▎                                            | 35/250 [00:17<01:48,  1.98it/s]\u001B[A\n",
      "DDIM Sampler:  14%|███████▍                                            | 36/250 [00:18<01:48,  1.97it/s]\u001B[A\n",
      "DDIM Sampler:  15%|███████▋                                            | 37/250 [00:18<01:47,  1.97it/s]\u001B[A\n",
      "DDIM Sampler:  15%|███████▉                                            | 38/250 [00:19<01:47,  1.97it/s]\u001B[A\n",
      "DDIM Sampler:  16%|████████                                            | 39/250 [00:19<01:46,  1.98it/s]\u001B[A\n",
      "DDIM Sampler:  16%|████████▎                                           | 40/250 [00:20<01:46,  1.97it/s]\u001B[A\n",
      "DDIM Sampler:  16%|████████▌                                           | 41/250 [00:20<01:46,  1.97it/s]\u001B[A\n",
      "DDIM Sampler:  17%|████████▋                                           | 42/250 [00:21<01:45,  1.97it/s]\u001B[A\n",
      "DDIM Sampler:  17%|████████▉                                           | 43/250 [00:21<01:44,  1.97it/s]\u001B[A\n",
      "DDIM Sampler:  18%|█████████▏                                          | 44/250 [00:22<01:44,  1.97it/s]\u001B[A\n",
      "DDIM Sampler:  18%|█████████▎                                          | 45/250 [00:22<01:44,  1.97it/s]\u001B[A\n",
      "DDIM Sampler:  18%|█████████▌                                          | 46/250 [00:23<01:43,  1.97it/s]\u001B[A\n",
      "DDIM Sampler:  19%|█████████▊                                          | 47/250 [00:23<01:43,  1.97it/s]\u001B[A\n",
      "DDIM Sampler:  19%|█████████▉                                          | 48/250 [00:24<01:42,  1.97it/s]\u001B[A\n",
      "DDIM Sampler:  20%|██████████▏                                         | 49/250 [00:24<01:42,  1.97it/s]\u001B[A\n",
      "DDIM Sampler:  20%|██████████▍                                         | 50/250 [00:25<01:41,  1.97it/s]\u001B[A\n",
      "DDIM Sampler:  20%|██████████▌                                         | 51/250 [00:25<01:41,  1.97it/s]\u001B[A\n",
      "DDIM Sampler:  21%|██████████▊                                         | 52/250 [00:26<01:40,  1.97it/s]\u001B[A\n",
      "DDIM Sampler:  21%|███████████                                         | 53/250 [00:26<01:39,  1.97it/s]\u001B[A\n",
      "DDIM Sampler:  22%|███████████▏                                        | 54/250 [00:27<01:39,  1.97it/s]\u001B[A\n",
      "DDIM Sampler:  22%|███████████▍                                        | 55/250 [00:27<01:39,  1.97it/s]\u001B[A\n",
      "DDIM Sampler:  22%|███████████▋                                        | 56/250 [00:28<01:38,  1.97it/s]\u001B[A\n",
      "DDIM Sampler:  23%|███████████▊                                        | 57/250 [00:28<01:37,  1.97it/s]\u001B[A\n",
      "DDIM Sampler:  23%|████████████                                        | 58/250 [00:29<01:37,  1.97it/s]\u001B[A\n",
      "DDIM Sampler:  24%|████████████▎                                       | 59/250 [00:29<01:36,  1.97it/s]\u001B[A\n",
      "DDIM Sampler:  24%|████████████▍                                       | 60/250 [00:30<01:36,  1.97it/s]\u001B[A\n",
      "DDIM Sampler:  24%|████████████▋                                       | 61/250 [00:30<01:36,  1.97it/s]\u001B[A\n",
      "DDIM Sampler:  25%|████████████▉                                       | 62/250 [00:31<01:35,  1.97it/s]\u001B[A\n",
      "DDIM Sampler:  25%|█████████████                                       | 63/250 [00:31<01:34,  1.97it/s]\u001B[A\n",
      "DDIM Sampler:  26%|█████████████▎                                      | 64/250 [00:32<01:34,  1.97it/s]\u001B[A\n",
      "DDIM Sampler:  26%|█████████████▌                                      | 65/250 [00:32<01:33,  1.97it/s]\u001B[A\n",
      "DDIM Sampler:  26%|█████████████▋                                      | 66/250 [00:33<01:33,  1.97it/s]\u001B[A\n",
      "DDIM Sampler:  27%|█████████████▉                                      | 67/250 [00:33<01:32,  1.97it/s]\u001B[A\n",
      "DDIM Sampler:  27%|██████████████▏                                     | 68/250 [00:34<01:32,  1.97it/s]\u001B[A\n",
      "DDIM Sampler:  28%|██████████████▎                                     | 69/250 [00:35<01:31,  1.97it/s]\u001B[A\n",
      "DDIM Sampler:  28%|██████████████▌                                     | 70/250 [00:35<01:31,  1.97it/s]\u001B[A\n",
      "DDIM Sampler:  28%|██████████████▊                                     | 71/250 [00:36<01:30,  1.97it/s]\u001B[A\n",
      "DDIM Sampler:  29%|██████████████▉                                     | 72/250 [00:36<01:30,  1.97it/s]\u001B[A\n",
      "DDIM Sampler:  29%|███████████████▏                                    | 73/250 [00:37<01:29,  1.97it/s]\u001B[A\n",
      "DDIM Sampler:  30%|███████████████▍                                    | 74/250 [00:37<01:29,  1.97it/s]\u001B[A\n"
     ]
    },
    {
     "name": "stderr",
     "output_type": "stream",
     "text": [
      "DDIM Sampler:  30%|███████████████▌                                    | 75/250 [00:38<01:28,  1.97it/s]\u001B[A\n",
      "DDIM Sampler:  30%|███████████████▊                                    | 76/250 [00:38<01:28,  1.97it/s]\u001B[A\n",
      "DDIM Sampler:  31%|████████████████                                    | 77/250 [00:39<01:27,  1.97it/s]\u001B[A\n",
      "DDIM Sampler:  31%|████████████████▏                                   | 78/250 [00:39<01:27,  1.97it/s]\u001B[A\n",
      "DDIM Sampler:  32%|████████████████▍                                   | 79/250 [00:40<01:26,  1.97it/s]\u001B[A\n",
      "DDIM Sampler:  32%|████████████████▋                                   | 80/250 [00:40<01:26,  1.97it/s]\u001B[A\n",
      "DDIM Sampler:  32%|████████████████▊                                   | 81/250 [00:41<01:25,  1.97it/s]\u001B[A\n",
      "DDIM Sampler:  33%|█████████████████                                   | 82/250 [00:41<01:25,  1.97it/s]\u001B[A\n",
      "DDIM Sampler:  33%|█████████████████▎                                  | 83/250 [00:42<01:24,  1.97it/s]\u001B[A\n",
      "DDIM Sampler:  34%|█████████████████▍                                  | 84/250 [00:42<01:24,  1.97it/s]\u001B[A\n",
      "DDIM Sampler:  34%|█████████████████▋                                  | 85/250 [00:43<01:23,  1.97it/s]\u001B[A\n",
      "DDIM Sampler:  34%|█████████████████▉                                  | 86/250 [00:43<01:23,  1.97it/s]\u001B[A\n",
      "DDIM Sampler:  35%|██████████████████                                  | 87/250 [00:44<01:22,  1.97it/s]\u001B[A\n",
      "DDIM Sampler:  35%|██████████████████▎                                 | 88/250 [00:44<01:22,  1.97it/s]\u001B[A\n",
      "DDIM Sampler:  36%|██████████████████▌                                 | 89/250 [00:45<01:21,  1.97it/s]\u001B[A\n",
      "DDIM Sampler:  36%|██████████████████▋                                 | 90/250 [00:45<01:21,  1.96it/s]\u001B[A\n",
      "DDIM Sampler:  36%|██████████████████▉                                 | 91/250 [00:46<01:20,  1.96it/s]\u001B[A\n",
      "DDIM Sampler:  37%|███████████████████▏                                | 92/250 [00:46<01:20,  1.97it/s]\u001B[A\n",
      "DDIM Sampler:  37%|███████████████████▎                                | 93/250 [00:47<01:19,  1.97it/s]\u001B[A\n",
      "DDIM Sampler:  38%|███████████████████▌                                | 94/250 [00:47<01:19,  1.97it/s]\u001B[A\n",
      "DDIM Sampler:  38%|███████████████████▊                                | 95/250 [00:48<01:18,  1.97it/s]\u001B[A\n",
      "DDIM Sampler:  38%|███████████████████▉                                | 96/250 [00:48<01:18,  1.96it/s]\u001B[A\n",
      "DDIM Sampler:  39%|████████████████████▏                               | 97/250 [00:49<01:17,  1.96it/s]\u001B[A\n",
      "DDIM Sampler:  39%|████████████████████▍                               | 98/250 [00:49<01:17,  1.97it/s]\u001B[A\n",
      "DDIM Sampler:  40%|████████████████████▌                               | 99/250 [00:50<01:16,  1.97it/s]\u001B[A\n",
      "DDIM Sampler:  40%|████████████████████▍                              | 100/250 [00:50<01:16,  1.97it/s]\u001B[A\n",
      "DDIM Sampler:  40%|████████████████████▌                              | 101/250 [00:51<01:15,  1.97it/s]\u001B[A\n",
      "DDIM Sampler:  41%|████████████████████▊                              | 102/250 [00:51<01:15,  1.96it/s]\u001B[A\n",
      "DDIM Sampler:  41%|█████████████████████                              | 103/250 [00:52<01:14,  1.97it/s]\u001B[A\n",
      "DDIM Sampler:  42%|█████████████████████▏                             | 104/250 [00:52<01:14,  1.97it/s]\u001B[A\n",
      "DDIM Sampler:  42%|█████████████████████▍                             | 105/250 [00:53<01:13,  1.97it/s]\u001B[A\n",
      "DDIM Sampler:  42%|█████████████████████▌                             | 106/250 [00:53<01:13,  1.97it/s]\u001B[A\n",
      "DDIM Sampler:  43%|█████████████████████▊                             | 107/250 [00:54<01:12,  1.96it/s]\u001B[A\n",
      "DDIM Sampler:  43%|██████████████████████                             | 108/250 [00:54<01:12,  1.97it/s]\u001B[A\n",
      "DDIM Sampler:  44%|██████████████████████▏                            | 109/250 [00:55<01:11,  1.97it/s]\u001B[A\n",
      "DDIM Sampler:  44%|██████████████████████▍                            | 110/250 [00:55<01:11,  1.97it/s]\u001B[A\n",
      "DDIM Sampler:  44%|██████████████████████▋                            | 111/250 [00:56<01:10,  1.97it/s]\u001B[A\n",
      "DDIM Sampler:  45%|██████████████████████▊                            | 112/250 [00:56<01:10,  1.97it/s]\u001B[A\n",
      "DDIM Sampler:  45%|███████████████████████                            | 113/250 [00:57<01:09,  1.96it/s]\u001B[A\n",
      "DDIM Sampler:  46%|███████████████████████▎                           | 114/250 [00:57<01:09,  1.97it/s]\u001B[A\n",
      "DDIM Sampler:  46%|███████████████████████▍                           | 115/250 [00:58<01:08,  1.96it/s]\u001B[A\n",
      "DDIM Sampler:  46%|███████████████████████▋                           | 116/250 [00:58<01:08,  1.96it/s]\u001B[A\n",
      "DDIM Sampler:  47%|███████████████████████▊                           | 117/250 [00:59<01:07,  1.97it/s]\u001B[A\n",
      "DDIM Sampler:  47%|████████████████████████                           | 118/250 [00:59<01:07,  1.96it/s]\u001B[A\n",
      "DDIM Sampler:  48%|████████████████████████▎                          | 119/250 [01:00<01:06,  1.96it/s]\u001B[A\n",
      "DDIM Sampler:  48%|████████████████████████▍                          | 120/250 [01:00<01:06,  1.97it/s]\u001B[A\n",
      "DDIM Sampler:  48%|████████████████████████▋                          | 121/250 [01:01<01:05,  1.96it/s]\u001B[A\n",
      "DDIM Sampler:  49%|████████████████████████▉                          | 122/250 [01:01<01:05,  1.96it/s]\u001B[A\n",
      "DDIM Sampler:  49%|█████████████████████████                          | 123/250 [01:02<01:04,  1.96it/s]\u001B[A\n",
      "DDIM Sampler:  50%|█████████████████████████▎                         | 124/250 [01:02<01:04,  1.96it/s]\u001B[A\n",
      "DDIM Sampler:  50%|█████████████████████████▌                         | 125/250 [01:03<01:03,  1.97it/s]\u001B[A\n",
      "DDIM Sampler:  50%|█████████████████████████▋                         | 126/250 [01:03<01:03,  1.96it/s]\u001B[A\n",
      "DDIM Sampler:  51%|█████████████████████████▉                         | 127/250 [01:04<01:02,  1.96it/s]\u001B[A\n",
      "DDIM Sampler:  51%|██████████████████████████                         | 128/250 [01:05<01:02,  1.97it/s]\u001B[A\n",
      "DDIM Sampler:  52%|██████████████████████████▎                        | 129/250 [01:05<01:01,  1.97it/s]\u001B[A\n",
      "DDIM Sampler:  52%|██████████████████████████▌                        | 130/250 [01:06<01:01,  1.96it/s]\u001B[A\n",
      "DDIM Sampler:  52%|██████████████████████████▋                        | 131/250 [01:06<01:00,  1.96it/s]\u001B[A\n",
      "DDIM Sampler:  53%|██████████████████████████▉                        | 132/250 [01:07<01:00,  1.96it/s]\u001B[A\n",
      "DDIM Sampler:  53%|███████████████████████████▏                       | 133/250 [01:07<00:59,  1.96it/s]\u001B[A\n",
      "DDIM Sampler:  54%|███████████████████████████▎                       | 134/250 [01:08<00:59,  1.96it/s]\u001B[A\n",
      "DDIM Sampler:  54%|███████████████████████████▌                       | 135/250 [01:08<00:58,  1.96it/s]\u001B[A\n",
      "DDIM Sampler:  54%|███████████████████████████▋                       | 136/250 [01:09<00:58,  1.96it/s]\u001B[A\n",
      "DDIM Sampler:  55%|███████████████████████████▉                       | 137/250 [01:09<00:57,  1.96it/s]\u001B[A\n",
      "DDIM Sampler:  55%|████████████████████████████▏                      | 138/250 [01:10<00:57,  1.96it/s]\u001B[A\n",
      "DDIM Sampler:  56%|████████████████████████████▎                      | 139/250 [01:10<00:56,  1.96it/s]\u001B[A\n",
      "DDIM Sampler:  56%|████████████████████████████▌                      | 140/250 [01:11<00:56,  1.96it/s]\u001B[A\n",
      "DDIM Sampler:  56%|████████████████████████████▊                      | 141/250 [01:11<00:55,  1.96it/s]\u001B[A\n",
      "DDIM Sampler:  57%|████████████████████████████▉                      | 142/250 [01:12<00:55,  1.96it/s]\u001B[A\n",
      "DDIM Sampler:  57%|█████████████████████████████▏                     | 143/250 [01:12<00:54,  1.96it/s]\u001B[A\n",
      "DDIM Sampler:  58%|█████████████████████████████▍                     | 144/250 [01:13<00:53,  1.96it/s]\u001B[A\n",
      "DDIM Sampler:  58%|█████████████████████████████▌                     | 145/250 [01:13<00:53,  1.96it/s]\u001B[A\n",
      "DDIM Sampler:  58%|█████████████████████████████▊                     | 146/250 [01:14<00:52,  1.96it/s]\u001B[A\n",
      "DDIM Sampler:  59%|█████████████████████████████▉                     | 147/250 [01:14<00:52,  1.96it/s]\u001B[A\n",
      "DDIM Sampler:  59%|██████████████████████████████▏                    | 148/250 [01:15<00:52,  1.96it/s]\u001B[A\n",
      "DDIM Sampler:  60%|██████████████████████████████▍                    | 149/250 [01:15<00:51,  1.96it/s]\u001B[A\n"
     ]
    },
    {
     "name": "stderr",
     "output_type": "stream",
     "text": [
      "DDIM Sampler:  60%|██████████████████████████████▌                    | 150/250 [01:16<00:51,  1.96it/s]\u001B[A\n",
      "DDIM Sampler:  60%|██████████████████████████████▊                    | 151/250 [01:16<00:50,  1.96it/s]\u001B[A\n",
      "DDIM Sampler:  61%|███████████████████████████████                    | 152/250 [01:17<00:49,  1.96it/s]\u001B[A\n",
      "DDIM Sampler:  61%|███████████████████████████████▏                   | 153/250 [01:17<00:49,  1.96it/s]\u001B[A\n",
      "DDIM Sampler:  62%|███████████████████████████████▍                   | 154/250 [01:18<00:48,  1.96it/s]\u001B[A\n",
      "DDIM Sampler:  62%|███████████████████████████████▌                   | 155/250 [01:18<00:48,  1.96it/s]\u001B[A\n",
      "DDIM Sampler:  62%|███████████████████████████████▊                   | 156/250 [01:19<00:47,  1.96it/s]\u001B[A\n",
      "DDIM Sampler:  63%|████████████████████████████████                   | 157/250 [01:19<00:47,  1.96it/s]\u001B[A\n",
      "DDIM Sampler:  63%|████████████████████████████████▏                  | 158/250 [01:20<00:46,  1.96it/s]\u001B[A\n",
      "DDIM Sampler:  64%|████████████████████████████████▍                  | 159/250 [01:20<00:46,  1.96it/s]\u001B[A\n",
      "DDIM Sampler:  64%|████████████████████████████████▋                  | 160/250 [01:21<00:45,  1.96it/s]\u001B[A\n",
      "DDIM Sampler:  64%|████████████████████████████████▊                  | 161/250 [01:21<00:45,  1.96it/s]\u001B[A\n",
      "DDIM Sampler:  65%|█████████████████████████████████                  | 162/250 [01:22<00:44,  1.96it/s]\u001B[A\n",
      "DDIM Sampler:  65%|█████████████████████████████████▎                 | 163/250 [01:22<00:44,  1.96it/s]\u001B[A\n",
      "DDIM Sampler:  66%|█████████████████████████████████▍                 | 164/250 [01:23<00:43,  1.96it/s]\u001B[A\n",
      "DDIM Sampler:  66%|█████████████████████████████████▋                 | 165/250 [01:23<00:43,  1.96it/s]\u001B[A\n",
      "DDIM Sampler:  66%|█████████████████████████████████▊                 | 166/250 [01:24<00:42,  1.96it/s]\u001B[A\n",
      "DDIM Sampler:  67%|██████████████████████████████████                 | 167/250 [01:24<00:42,  1.96it/s]\u001B[A\n",
      "DDIM Sampler:  67%|██████████████████████████████████▎                | 168/250 [01:25<00:41,  1.96it/s]\u001B[A\n",
      "DDIM Sampler:  68%|██████████████████████████████████▍                | 169/250 [01:25<00:41,  1.96it/s]\u001B[A\n",
      "DDIM Sampler:  68%|██████████████████████████████████▋                | 170/250 [01:26<00:40,  1.96it/s]\u001B[A\n",
      "DDIM Sampler:  68%|██████████████████████████████████▉                | 171/250 [01:26<00:40,  1.96it/s]\u001B[A\n",
      "DDIM Sampler:  69%|███████████████████████████████████                | 172/250 [01:27<00:39,  1.96it/s]\u001B[A\n",
      "DDIM Sampler:  69%|███████████████████████████████████▎               | 173/250 [01:27<00:39,  1.96it/s]\u001B[A\n",
      "DDIM Sampler:  70%|███████████████████████████████████▍               | 174/250 [01:28<00:38,  1.96it/s]\u001B[A\n",
      "DDIM Sampler:  70%|███████████████████████████████████▋               | 175/250 [01:28<00:38,  1.96it/s]\u001B[A\n",
      "DDIM Sampler:  70%|███████████████████████████████████▉               | 176/250 [01:29<00:37,  1.96it/s]\u001B[A\n",
      "DDIM Sampler:  71%|████████████████████████████████████               | 177/250 [01:29<00:37,  1.96it/s]\u001B[A\n",
      "DDIM Sampler:  71%|████████████████████████████████████▎              | 178/250 [01:30<00:36,  1.96it/s]\u001B[A\n",
      "DDIM Sampler:  72%|████████████████████████████████████▌              | 179/250 [01:31<00:36,  1.96it/s]\u001B[A\n",
      "DDIM Sampler:  72%|████████████████████████████████████▋              | 180/250 [01:31<00:35,  1.96it/s]\u001B[A\n",
      "DDIM Sampler:  72%|████████████████████████████████████▉              | 181/250 [01:32<00:35,  1.96it/s]\u001B[A\n",
      "DDIM Sampler:  73%|█████████████████████████████████████▏             | 182/250 [01:32<00:34,  1.96it/s]\u001B[A\n",
      "DDIM Sampler:  73%|█████████████████████████████████████▎             | 183/250 [01:33<00:34,  1.96it/s]\u001B[A\n",
      "DDIM Sampler:  74%|█████████████████████████████████████▌             | 184/250 [01:33<00:33,  1.96it/s]\u001B[A\n",
      "DDIM Sampler:  74%|█████████████████████████████████████▋             | 185/250 [01:34<00:33,  1.96it/s]\u001B[A\n",
      "DDIM Sampler:  74%|█████████████████████████████████████▉             | 186/250 [01:34<00:32,  1.96it/s]\u001B[A\n",
      "DDIM Sampler:  75%|██████████████████████████████████████▏            | 187/250 [01:35<00:32,  1.96it/s]\u001B[A\n",
      "DDIM Sampler:  75%|██████████████████████████████████████▎            | 188/250 [01:35<00:31,  1.96it/s]\u001B[A\n",
      "DDIM Sampler:  76%|██████████████████████████████████████▌            | 189/250 [01:36<00:31,  1.96it/s]\u001B[A\n",
      "DDIM Sampler:  76%|██████████████████████████████████████▊            | 190/250 [01:36<00:30,  1.96it/s]\u001B[A\n",
      "DDIM Sampler:  76%|██████████████████████████████████████▉            | 191/250 [01:37<00:30,  1.96it/s]\u001B[A\n",
      "DDIM Sampler:  77%|███████████████████████████████████████▏           | 192/250 [01:37<00:29,  1.96it/s]\u001B[A\n",
      "DDIM Sampler:  77%|███████████████████████████████████████▎           | 193/250 [01:38<00:29,  1.96it/s]\u001B[A\n",
      "DDIM Sampler:  78%|███████████████████████████████████████▌           | 194/250 [01:38<00:28,  1.96it/s]\u001B[A\n",
      "DDIM Sampler:  78%|███████████████████████████████████████▊           | 195/250 [01:39<00:28,  1.96it/s]\u001B[A\n",
      "DDIM Sampler:  78%|███████████████████████████████████████▉           | 196/250 [01:39<00:27,  1.96it/s]\u001B[A\n",
      "DDIM Sampler:  79%|████████████████████████████████████████▏          | 197/250 [01:40<00:27,  1.96it/s]\u001B[A\n",
      "DDIM Sampler:  79%|████████████████████████████████████████▍          | 198/250 [01:40<00:26,  1.96it/s]\u001B[A\n",
      "DDIM Sampler:  80%|████████████████████████████████████████▌          | 199/250 [01:41<00:25,  1.96it/s]\u001B[A\n",
      "DDIM Sampler:  80%|████████████████████████████████████████▊          | 200/250 [01:41<00:25,  1.96it/s]\u001B[A\n",
      "DDIM Sampler:  80%|█████████████████████████████████████████          | 201/250 [01:42<00:24,  1.96it/s]\u001B[A\n",
      "DDIM Sampler:  81%|█████████████████████████████████████████▏         | 202/250 [01:42<00:24,  1.96it/s]\u001B[A\n",
      "DDIM Sampler:  81%|█████████████████████████████████████████▍         | 203/250 [01:43<00:23,  1.96it/s]\u001B[A\n",
      "DDIM Sampler:  82%|█████████████████████████████████████████▌         | 204/250 [01:43<00:23,  1.96it/s]\u001B[A\n",
      "DDIM Sampler:  82%|█████████████████████████████████████████▊         | 205/250 [01:44<00:22,  1.96it/s]\u001B[A\n",
      "DDIM Sampler:  82%|██████████████████████████████████████████         | 206/250 [01:44<00:22,  1.96it/s]\u001B[A\n",
      "DDIM Sampler:  83%|██████████████████████████████████████████▏        | 207/250 [01:45<00:21,  1.96it/s]\u001B[A\n",
      "DDIM Sampler:  83%|██████████████████████████████████████████▍        | 208/250 [01:45<00:21,  1.96it/s]\u001B[A\n",
      "DDIM Sampler:  84%|██████████████████████████████████████████▋        | 209/250 [01:46<00:20,  1.96it/s]\u001B[A\n",
      "DDIM Sampler:  84%|██████████████████████████████████████████▊        | 210/250 [01:46<00:20,  1.96it/s]\u001B[A\n",
      "DDIM Sampler:  84%|███████████████████████████████████████████        | 211/250 [01:47<00:19,  1.96it/s]\u001B[A\n",
      "DDIM Sampler:  85%|███████████████████████████████████████████▏       | 212/250 [01:47<00:19,  1.96it/s]\u001B[A\n",
      "DDIM Sampler:  85%|███████████████████████████████████████████▍       | 213/250 [01:48<00:18,  1.96it/s]\u001B[A\n",
      "DDIM Sampler:  86%|███████████████████████████████████████████▋       | 214/250 [01:48<00:18,  1.96it/s]\u001B[A\n",
      "DDIM Sampler:  86%|███████████████████████████████████████████▊       | 215/250 [01:49<00:17,  1.96it/s]\u001B[A\n",
      "DDIM Sampler:  86%|████████████████████████████████████████████       | 216/250 [01:49<00:17,  1.96it/s]\u001B[A\n",
      "DDIM Sampler:  87%|████████████████████████████████████████████▎      | 217/250 [01:50<00:16,  1.96it/s]\u001B[A\n",
      "DDIM Sampler:  87%|████████████████████████████████████████████▍      | 218/250 [01:50<00:16,  1.96it/s]\u001B[A\n",
      "DDIM Sampler:  88%|████████████████████████████████████████████▋      | 219/250 [01:51<00:15,  1.96it/s]\u001B[A\n",
      "DDIM Sampler:  88%|████████████████████████████████████████████▉      | 220/250 [01:51<00:15,  1.96it/s]\u001B[A\n",
      "DDIM Sampler:  88%|█████████████████████████████████████████████      | 221/250 [01:52<00:14,  1.96it/s]\u001B[A\n",
      "DDIM Sampler:  89%|█████████████████████████████████████████████▎     | 222/250 [01:52<00:14,  1.96it/s]\u001B[A\n",
      "DDIM Sampler:  89%|█████████████████████████████████████████████▍     | 223/250 [01:53<00:13,  1.96it/s]\u001B[A\n",
      "DDIM Sampler:  90%|█████████████████████████████████████████████▋     | 224/250 [01:53<00:13,  1.96it/s]\u001B[A\n"
     ]
    },
    {
     "name": "stderr",
     "output_type": "stream",
     "text": [
      "DDIM Sampler:  90%|█████████████████████████████████████████████▉     | 225/250 [01:54<00:12,  1.96it/s]\u001B[A\n",
      "DDIM Sampler:  90%|██████████████████████████████████████████████     | 226/250 [01:54<00:12,  1.96it/s]\u001B[A\n",
      "DDIM Sampler:  91%|██████████████████████████████████████████████▎    | 227/250 [01:55<00:11,  1.96it/s]\u001B[A\n",
      "DDIM Sampler:  91%|██████████████████████████████████████████████▌    | 228/250 [01:56<00:11,  1.96it/s]\u001B[A\n",
      "DDIM Sampler:  92%|██████████████████████████████████████████████▋    | 229/250 [01:56<00:10,  1.96it/s]\u001B[A\n",
      "DDIM Sampler:  92%|██████████████████████████████████████████████▉    | 230/250 [01:57<00:10,  1.96it/s]\u001B[A\n",
      "DDIM Sampler:  92%|███████████████████████████████████████████████    | 231/250 [01:57<00:09,  1.96it/s]\u001B[A\n",
      "DDIM Sampler:  93%|███████████████████████████████████████████████▎   | 232/250 [01:58<00:09,  1.96it/s]\u001B[A\n",
      "DDIM Sampler:  93%|███████████████████████████████████████████████▌   | 233/250 [01:58<00:08,  1.96it/s]\u001B[A\n",
      "DDIM Sampler:  94%|███████████████████████████████████████████████▋   | 234/250 [01:59<00:08,  1.96it/s]\u001B[A\n",
      "DDIM Sampler:  94%|███████████████████████████████████████████████▉   | 235/250 [01:59<00:07,  1.96it/s]\u001B[A\n",
      "DDIM Sampler:  94%|████████████████████████████████████████████████▏  | 236/250 [02:00<00:07,  1.96it/s]\u001B[A\n",
      "DDIM Sampler:  95%|████████████████████████████████████████████████▎  | 237/250 [02:00<00:06,  1.96it/s]\u001B[A\n",
      "DDIM Sampler:  95%|████████████████████████████████████████████████▌  | 238/250 [02:01<00:06,  1.96it/s]\u001B[A\n",
      "DDIM Sampler:  96%|████████████████████████████████████████████████▊  | 239/250 [02:01<00:05,  1.96it/s]\u001B[A\n",
      "DDIM Sampler:  96%|████████████████████████████████████████████████▉  | 240/250 [02:02<00:05,  1.96it/s]\u001B[A\n",
      "DDIM Sampler:  96%|█████████████████████████████████████████████████▏ | 241/250 [02:02<00:04,  1.96it/s]\u001B[A\n",
      "DDIM Sampler:  97%|█████████████████████████████████████████████████▎ | 242/250 [02:03<00:04,  1.96it/s]\u001B[A\n",
      "DDIM Sampler:  97%|█████████████████████████████████████████████████▌ | 243/250 [02:03<00:03,  1.96it/s]\u001B[A\n",
      "DDIM Sampler:  98%|█████████████████████████████████████████████████▊ | 244/250 [02:04<00:03,  1.96it/s]\u001B[A\n",
      "DDIM Sampler:  98%|█████████████████████████████████████████████████▉ | 245/250 [02:04<00:02,  1.96it/s]\u001B[A\n",
      "DDIM Sampler:  98%|██████████████████████████████████████████████████▏| 246/250 [02:05<00:02,  1.96it/s]\u001B[A\n",
      "DDIM Sampler:  99%|██████████████████████████████████████████████████▍| 247/250 [02:05<00:01,  1.96it/s]\u001B[A\n",
      "DDIM Sampler:  99%|██████████████████████████████████████████████████▌| 248/250 [02:06<00:01,  1.96it/s]\u001B[A\n",
      "DDIM Sampler: 100%|██████████████████████████████████████████████████▊| 249/250 [02:06<00:00,  1.96it/s]\u001B[A\n",
      "DDIM Sampler: 100%|███████████████████████████████████████████████████| 250/250 [02:06<00:00,  1.97it/s]\u001B[A\n",
      "Sampling Batches (conditional):  50%|██████████████████                  | 1/2 [02:07<02:07, 127.71s/it]"
     ]
    },
    {
     "name": "stdout",
     "output_type": "stream",
     "text": [
      "Data shape for DDIM sampling is (4, 4, 32, 32), eta 1.0\n",
      "Running DDIM Sampling with 250 timesteps\n",
      "Running repaint with 1 timesteps\n"
     ]
    },
    {
     "name": "stderr",
     "output_type": "stream",
     "text": [
      "\n",
      "DDIM Sampler:   0%|                                                             | 0/250 [00:00<?, ?it/s]\u001B[A\n",
      "DDIM Sampler:   0%|▏                                                    | 1/250 [00:00<02:06,  1.97it/s]\u001B[A\n",
      "DDIM Sampler:   1%|▍                                                    | 2/250 [00:01<02:06,  1.96it/s]\u001B[A\n",
      "DDIM Sampler:   1%|▋                                                    | 3/250 [00:01<02:05,  1.96it/s]\u001B[A\n",
      "DDIM Sampler:   2%|▊                                                    | 4/250 [00:02<02:05,  1.96it/s]\u001B[A\n",
      "DDIM Sampler:   2%|█                                                    | 5/250 [00:02<02:04,  1.96it/s]\u001B[A\n",
      "DDIM Sampler:   2%|█▎                                                   | 6/250 [00:03<02:04,  1.96it/s]\u001B[A\n",
      "DDIM Sampler:   3%|█▍                                                   | 7/250 [00:03<02:03,  1.96it/s]\u001B[A\n",
      "DDIM Sampler:   3%|█▋                                                   | 8/250 [00:04<02:03,  1.96it/s]\u001B[A\n",
      "DDIM Sampler:   4%|█▉                                                   | 9/250 [00:04<02:02,  1.96it/s]\u001B[A\n",
      "DDIM Sampler:   4%|██                                                  | 10/250 [00:05<02:02,  1.96it/s]\u001B[A\n",
      "DDIM Sampler:   4%|██▎                                                 | 11/250 [00:05<02:01,  1.97it/s]\u001B[A\n",
      "DDIM Sampler:   5%|██▍                                                 | 12/250 [00:06<02:01,  1.96it/s]\u001B[A\n",
      "DDIM Sampler:   5%|██▋                                                 | 13/250 [00:06<02:00,  1.96it/s]\u001B[A\n",
      "DDIM Sampler:   6%|██▉                                                 | 14/250 [00:07<02:00,  1.96it/s]\u001B[A\n",
      "DDIM Sampler:   6%|███                                                 | 15/250 [00:07<01:59,  1.96it/s]\u001B[A\n",
      "DDIM Sampler:   6%|███▎                                                | 16/250 [00:08<01:59,  1.97it/s]\u001B[A\n",
      "DDIM Sampler:   7%|███▌                                                | 17/250 [00:08<01:58,  1.96it/s]\u001B[A\n",
      "DDIM Sampler:   7%|███▋                                                | 18/250 [00:09<01:58,  1.96it/s]\u001B[A\n",
      "DDIM Sampler:   8%|███▉                                                | 19/250 [00:09<01:57,  1.96it/s]\u001B[A\n",
      "DDIM Sampler:   8%|████▏                                               | 20/250 [00:10<01:57,  1.96it/s]\u001B[A\n",
      "DDIM Sampler:   8%|████▎                                               | 21/250 [00:10<01:56,  1.96it/s]\u001B[A\n",
      "DDIM Sampler:   9%|████▌                                               | 22/250 [00:11<01:56,  1.96it/s]\u001B[A\n",
      "DDIM Sampler:   9%|████▊                                               | 23/250 [00:11<01:55,  1.96it/s]\u001B[A\n",
      "DDIM Sampler:  10%|████▉                                               | 24/250 [00:12<01:55,  1.96it/s]\u001B[A\n",
      "DDIM Sampler:  10%|█████▏                                              | 25/250 [00:12<01:54,  1.96it/s]\u001B[A\n",
      "DDIM Sampler:  10%|█████▍                                              | 26/250 [00:13<01:54,  1.96it/s]\u001B[A\n",
      "DDIM Sampler:  11%|█████▌                                              | 27/250 [00:13<01:53,  1.96it/s]\u001B[A\n",
      "DDIM Sampler:  11%|█████▊                                              | 28/250 [00:14<01:53,  1.96it/s]\u001B[A\n",
      "DDIM Sampler:  12%|██████                                              | 29/250 [00:14<01:52,  1.96it/s]\u001B[A\n",
      "DDIM Sampler:  12%|██████▏                                             | 30/250 [00:15<01:52,  1.96it/s]\u001B[A\n",
      "DDIM Sampler:  12%|██████▍                                             | 31/250 [00:15<01:51,  1.96it/s]\u001B[A\n",
      "DDIM Sampler:  13%|██████▋                                             | 32/250 [00:16<01:51,  1.96it/s]\u001B[A\n",
      "DDIM Sampler:  13%|██████▊                                             | 33/250 [00:16<01:50,  1.96it/s]\u001B[A\n",
      "DDIM Sampler:  14%|███████                                             | 34/250 [00:17<01:50,  1.96it/s]\u001B[A\n",
      "DDIM Sampler:  14%|███████▎                                            | 35/250 [00:17<01:49,  1.96it/s]\u001B[A\n",
      "DDIM Sampler:  14%|███████▍                                            | 36/250 [00:18<01:49,  1.96it/s]\u001B[A\n",
      "DDIM Sampler:  15%|███████▋                                            | 37/250 [00:18<01:48,  1.96it/s]\u001B[A\n",
      "DDIM Sampler:  15%|███████▉                                            | 38/250 [00:19<01:48,  1.96it/s]\u001B[A\n",
      "DDIM Sampler:  16%|████████                                            | 39/250 [00:19<01:47,  1.96it/s]\u001B[A\n",
      "DDIM Sampler:  16%|████████▎                                           | 40/250 [00:20<01:47,  1.96it/s]\u001B[A\n",
      "DDIM Sampler:  16%|████████▌                                           | 41/250 [00:20<01:46,  1.96it/s]\u001B[A\n",
      "DDIM Sampler:  17%|████████▋                                           | 42/250 [00:21<01:46,  1.96it/s]\u001B[A\n",
      "DDIM Sampler:  17%|████████▉                                           | 43/250 [00:21<01:45,  1.96it/s]\u001B[A\n",
      "DDIM Sampler:  18%|█████████▏                                          | 44/250 [00:22<01:45,  1.96it/s]\u001B[A\n",
      "DDIM Sampler:  18%|█████████▎                                          | 45/250 [00:22<01:44,  1.96it/s]\u001B[A\n",
      "DDIM Sampler:  18%|█████████▌                                          | 46/250 [00:23<01:43,  1.96it/s]\u001B[A\n",
      "DDIM Sampler:  19%|█████████▊                                          | 47/250 [00:23<01:43,  1.96it/s]\u001B[A\n",
      "DDIM Sampler:  19%|█████████▉                                          | 48/250 [00:24<01:43,  1.96it/s]\u001B[A\n",
      "DDIM Sampler:  20%|██████████▏                                         | 49/250 [00:24<01:42,  1.96it/s]\u001B[A\n",
      "DDIM Sampler:  20%|██████████▍                                         | 50/250 [00:25<01:42,  1.96it/s]\u001B[A\n",
      "DDIM Sampler:  20%|██████████▌                                         | 51/250 [00:25<01:41,  1.96it/s]\u001B[A\n",
      "DDIM Sampler:  21%|██████████▊                                         | 52/250 [00:26<01:41,  1.96it/s]\u001B[A\n",
      "DDIM Sampler:  21%|███████████                                         | 53/250 [00:27<01:40,  1.96it/s]\u001B[A\n",
      "DDIM Sampler:  22%|███████████▏                                        | 54/250 [00:27<01:39,  1.96it/s]\u001B[A\n",
      "DDIM Sampler:  22%|███████████▍                                        | 55/250 [00:28<01:39,  1.96it/s]\u001B[A\n",
      "DDIM Sampler:  22%|███████████▋                                        | 56/250 [00:28<01:38,  1.96it/s]\u001B[A\n",
      "DDIM Sampler:  23%|███████████▊                                        | 57/250 [00:29<01:38,  1.96it/s]\u001B[A\n",
      "DDIM Sampler:  23%|████████████                                        | 58/250 [00:29<01:37,  1.96it/s]\u001B[A\n",
      "DDIM Sampler:  24%|████████████▎                                       | 59/250 [00:30<01:37,  1.96it/s]\u001B[A\n",
      "DDIM Sampler:  24%|████████████▍                                       | 60/250 [00:30<01:37,  1.96it/s]\u001B[A\n",
      "DDIM Sampler:  24%|████████████▋                                       | 61/250 [00:31<01:36,  1.96it/s]\u001B[A\n",
      "DDIM Sampler:  25%|████████████▉                                       | 62/250 [00:31<01:35,  1.96it/s]\u001B[A\n",
      "DDIM Sampler:  25%|█████████████                                       | 63/250 [00:32<01:35,  1.96it/s]\u001B[A\n",
      "DDIM Sampler:  26%|█████████████▎                                      | 64/250 [00:32<01:34,  1.96it/s]\u001B[A\n",
      "DDIM Sampler:  26%|█████████████▌                                      | 65/250 [00:33<01:34,  1.96it/s]\u001B[A\n",
      "DDIM Sampler:  26%|█████████████▋                                      | 66/250 [00:33<01:33,  1.96it/s]\u001B[A\n",
      "DDIM Sampler:  27%|█████████████▉                                      | 67/250 [00:34<01:33,  1.96it/s]\u001B[A\n",
      "DDIM Sampler:  27%|██████████████▏                                     | 68/250 [00:34<01:32,  1.96it/s]\u001B[A\n",
      "DDIM Sampler:  28%|██████████████▎                                     | 69/250 [00:35<01:32,  1.96it/s]\u001B[A\n",
      "DDIM Sampler:  28%|██████████████▌                                     | 70/250 [00:35<01:31,  1.96it/s]\u001B[A\n",
      "DDIM Sampler:  28%|██████████████▊                                     | 71/250 [00:36<01:31,  1.96it/s]\u001B[A\n",
      "DDIM Sampler:  29%|██████████████▉                                     | 72/250 [00:36<01:30,  1.96it/s]\u001B[A\n",
      "DDIM Sampler:  29%|███████████████▏                                    | 73/250 [00:37<01:30,  1.96it/s]\u001B[A\n",
      "DDIM Sampler:  30%|███████████████▍                                    | 74/250 [00:37<01:29,  1.96it/s]\u001B[A\n"
     ]
    },
    {
     "name": "stderr",
     "output_type": "stream",
     "text": [
      "DDIM Sampler:  30%|███████████████▌                                    | 75/250 [00:38<01:29,  1.96it/s]\u001B[A\n",
      "DDIM Sampler:  30%|███████████████▊                                    | 76/250 [00:38<01:28,  1.96it/s]\u001B[A\n",
      "DDIM Sampler:  31%|████████████████                                    | 77/250 [00:39<01:28,  1.96it/s]\u001B[A\n",
      "DDIM Sampler:  31%|████████████████▏                                   | 78/250 [00:39<01:27,  1.96it/s]\u001B[A\n",
      "DDIM Sampler:  32%|████████████████▍                                   | 79/250 [00:40<01:27,  1.96it/s]\u001B[A\n",
      "DDIM Sampler:  32%|████████████████▋                                   | 80/250 [00:40<01:26,  1.96it/s]\u001B[A\n",
      "DDIM Sampler:  32%|████████████████▊                                   | 81/250 [00:41<01:26,  1.96it/s]\u001B[A\n",
      "DDIM Sampler:  33%|█████████████████                                   | 82/250 [00:41<01:25,  1.96it/s]\u001B[A\n",
      "DDIM Sampler:  33%|█████████████████▎                                  | 83/250 [00:42<01:25,  1.96it/s]\u001B[A\n",
      "DDIM Sampler:  34%|█████████████████▍                                  | 84/250 [00:42<01:24,  1.96it/s]\u001B[A\n",
      "DDIM Sampler:  34%|█████████████████▋                                  | 85/250 [00:43<01:24,  1.96it/s]\u001B[A\n",
      "DDIM Sampler:  34%|█████████████████▉                                  | 86/250 [00:43<01:23,  1.96it/s]\u001B[A\n",
      "DDIM Sampler:  35%|██████████████████                                  | 87/250 [00:44<01:22,  1.96it/s]\u001B[A\n",
      "DDIM Sampler:  35%|██████████████████▎                                 | 88/250 [00:44<01:22,  1.96it/s]\u001B[A\n",
      "DDIM Sampler:  36%|██████████████████▌                                 | 89/250 [00:45<01:22,  1.96it/s]\u001B[A\n",
      "DDIM Sampler:  36%|██████████████████▋                                 | 90/250 [00:45<01:21,  1.96it/s]\u001B[A\n",
      "DDIM Sampler:  36%|██████████████████▉                                 | 91/250 [00:46<01:21,  1.96it/s]\u001B[A\n",
      "DDIM Sampler:  37%|███████████████████▏                                | 92/250 [00:46<01:20,  1.96it/s]\u001B[A\n",
      "DDIM Sampler:  37%|███████████████████▎                                | 93/250 [00:47<01:20,  1.96it/s]\u001B[A\n",
      "DDIM Sampler:  38%|███████████████████▌                                | 94/250 [00:47<01:19,  1.96it/s]\u001B[A\n",
      "DDIM Sampler:  38%|███████████████████▊                                | 95/250 [00:48<01:19,  1.96it/s]\u001B[A\n",
      "DDIM Sampler:  38%|███████████████████▉                                | 96/250 [00:48<01:18,  1.96it/s]\u001B[A\n",
      "DDIM Sampler:  39%|████████████████████▏                               | 97/250 [00:49<01:18,  1.96it/s]\u001B[A\n",
      "DDIM Sampler:  39%|████████████████████▍                               | 98/250 [00:49<01:17,  1.96it/s]\u001B[A\n",
      "DDIM Sampler:  40%|████████████████████▌                               | 99/250 [00:50<01:17,  1.96it/s]\u001B[A\n",
      "DDIM Sampler:  40%|████████████████████▍                              | 100/250 [00:50<01:16,  1.96it/s]\u001B[A\n",
      "DDIM Sampler:  40%|████████████████████▌                              | 101/250 [00:51<01:15,  1.96it/s]\u001B[A\n",
      "DDIM Sampler:  41%|████████████████████▊                              | 102/250 [00:52<01:15,  1.96it/s]\u001B[A\n",
      "DDIM Sampler:  41%|█████████████████████                              | 103/250 [00:52<01:15,  1.96it/s]\u001B[A\n",
      "DDIM Sampler:  42%|█████████████████████▏                             | 104/250 [00:53<01:14,  1.96it/s]\u001B[A\n",
      "DDIM Sampler:  42%|█████████████████████▍                             | 105/250 [00:53<01:13,  1.96it/s]\u001B[A\n",
      "DDIM Sampler:  42%|█████████████████████▌                             | 106/250 [00:54<01:13,  1.96it/s]\u001B[A\n",
      "DDIM Sampler:  43%|█████████████████████▊                             | 107/250 [00:54<01:12,  1.96it/s]\u001B[A\n",
      "DDIM Sampler:  43%|██████████████████████                             | 108/250 [00:55<01:12,  1.96it/s]\u001B[A\n",
      "DDIM Sampler:  44%|██████████████████████▏                            | 109/250 [00:55<01:11,  1.96it/s]\u001B[A\n",
      "DDIM Sampler:  44%|██████████████████████▍                            | 110/250 [00:56<01:11,  1.96it/s]\u001B[A\n",
      "DDIM Sampler:  44%|██████████████████████▋                            | 111/250 [00:56<01:10,  1.96it/s]\u001B[A\n",
      "DDIM Sampler:  45%|██████████████████████▊                            | 112/250 [00:57<01:10,  1.96it/s]\u001B[A\n",
      "DDIM Sampler:  45%|███████████████████████                            | 113/250 [00:57<01:09,  1.96it/s]\u001B[A\n",
      "DDIM Sampler:  46%|███████████████████████▎                           | 114/250 [00:58<01:09,  1.96it/s]\u001B[A\n",
      "DDIM Sampler:  46%|███████████████████████▍                           | 115/250 [00:58<01:08,  1.96it/s]\u001B[A\n",
      "DDIM Sampler:  46%|███████████████████████▋                           | 116/250 [00:59<01:08,  1.96it/s]\u001B[A\n",
      "DDIM Sampler:  47%|███████████████████████▊                           | 117/250 [00:59<01:07,  1.96it/s]\u001B[A\n",
      "DDIM Sampler:  47%|████████████████████████                           | 118/250 [01:00<01:07,  1.96it/s]\u001B[A\n",
      "DDIM Sampler:  48%|████████████████████████▎                          | 119/250 [01:00<01:06,  1.96it/s]\u001B[A\n",
      "DDIM Sampler:  48%|████████████████████████▍                          | 120/250 [01:01<01:06,  1.96it/s]\u001B[A\n",
      "DDIM Sampler:  48%|████████████████████████▋                          | 121/250 [01:01<01:05,  1.96it/s]\u001B[A\n",
      "DDIM Sampler:  49%|████████████████████████▉                          | 122/250 [01:02<01:05,  1.96it/s]\u001B[A\n",
      "DDIM Sampler:  49%|█████████████████████████                          | 123/250 [01:02<01:04,  1.96it/s]\u001B[A\n",
      "DDIM Sampler:  50%|█████████████████████████▎                         | 124/250 [01:03<01:04,  1.96it/s]\u001B[A\n",
      "DDIM Sampler:  50%|█████████████████████████▌                         | 125/250 [01:03<01:03,  1.96it/s]\u001B[A\n",
      "DDIM Sampler:  50%|█████████████████████████▋                         | 126/250 [01:04<01:03,  1.96it/s]\u001B[A\n",
      "DDIM Sampler:  51%|█████████████████████████▉                         | 127/250 [01:04<01:02,  1.96it/s]\u001B[A\n",
      "DDIM Sampler:  51%|██████████████████████████                         | 128/250 [01:05<01:02,  1.96it/s]\u001B[A\n",
      "DDIM Sampler:  52%|██████████████████████████▎                        | 129/250 [01:05<01:01,  1.96it/s]\u001B[A\n",
      "DDIM Sampler:  52%|██████████████████████████▌                        | 130/250 [01:06<01:01,  1.96it/s]\u001B[A\n",
      "DDIM Sampler:  52%|██████████████████████████▋                        | 131/250 [01:06<01:00,  1.96it/s]\u001B[A\n",
      "DDIM Sampler:  53%|██████████████████████████▉                        | 132/250 [01:07<01:00,  1.96it/s]\u001B[A\n",
      "DDIM Sampler:  53%|███████████████████████████▏                       | 133/250 [01:07<00:59,  1.96it/s]\u001B[A\n",
      "DDIM Sampler:  54%|███████████████████████████▎                       | 134/250 [01:08<00:59,  1.96it/s]\u001B[A\n",
      "DDIM Sampler:  54%|███████████████████████████▌                       | 135/250 [01:08<00:58,  1.96it/s]\u001B[A\n",
      "DDIM Sampler:  54%|███████████████████████████▋                       | 136/250 [01:09<00:58,  1.96it/s]\u001B[A\n",
      "DDIM Sampler:  55%|███████████████████████████▉                       | 137/250 [01:09<00:57,  1.96it/s]\u001B[A\n",
      "DDIM Sampler:  55%|████████████████████████████▏                      | 138/250 [01:10<00:57,  1.96it/s]\u001B[A\n",
      "DDIM Sampler:  56%|████████████████████████████▎                      | 139/250 [01:10<00:56,  1.96it/s]\u001B[A\n",
      "DDIM Sampler:  56%|████████████████████████████▌                      | 140/250 [01:11<00:56,  1.96it/s]\u001B[A\n",
      "DDIM Sampler:  56%|████████████████████████████▊                      | 141/250 [01:11<00:55,  1.96it/s]\u001B[A\n",
      "DDIM Sampler:  57%|████████████████████████████▉                      | 142/250 [01:12<00:55,  1.96it/s]\u001B[A\n",
      "DDIM Sampler:  57%|█████████████████████████████▏                     | 143/250 [01:12<00:54,  1.96it/s]\u001B[A\n",
      "DDIM Sampler:  58%|█████████████████████████████▍                     | 144/250 [01:13<00:54,  1.96it/s]\u001B[A\n",
      "DDIM Sampler:  58%|█████████████████████████████▌                     | 145/250 [01:13<00:53,  1.96it/s]\u001B[A\n",
      "DDIM Sampler:  58%|█████████████████████████████▊                     | 146/250 [01:14<00:53,  1.96it/s]\u001B[A\n",
      "DDIM Sampler:  59%|█████████████████████████████▉                     | 147/250 [01:14<00:52,  1.96it/s]\u001B[A\n",
      "DDIM Sampler:  59%|██████████████████████████████▏                    | 148/250 [01:15<00:52,  1.96it/s]\u001B[A\n",
      "DDIM Sampler:  60%|██████████████████████████████▍                    | 149/250 [01:15<00:51,  1.96it/s]\u001B[A\n"
     ]
    },
    {
     "name": "stderr",
     "output_type": "stream",
     "text": [
      "DDIM Sampler:  60%|██████████████████████████████▌                    | 150/250 [01:16<00:50,  1.96it/s]\u001B[A\n",
      "DDIM Sampler:  60%|██████████████████████████████▊                    | 151/250 [01:17<00:50,  1.96it/s]\u001B[A\n",
      "DDIM Sampler:  61%|███████████████████████████████                    | 152/250 [01:17<00:50,  1.96it/s]\u001B[A\n",
      "DDIM Sampler:  61%|███████████████████████████████▏                   | 153/250 [01:18<00:49,  1.96it/s]\u001B[A\n",
      "DDIM Sampler:  62%|███████████████████████████████▍                   | 154/250 [01:18<00:49,  1.96it/s]\u001B[A\n",
      "DDIM Sampler:  62%|███████████████████████████████▌                   | 155/250 [01:19<00:48,  1.96it/s]\u001B[A\n",
      "DDIM Sampler:  62%|███████████████████████████████▊                   | 156/250 [01:19<00:47,  1.96it/s]\u001B[A\n",
      "DDIM Sampler:  63%|████████████████████████████████                   | 157/250 [01:20<00:47,  1.96it/s]\u001B[A\n",
      "DDIM Sampler:  63%|████████████████████████████████▏                  | 158/250 [01:20<00:46,  1.96it/s]\u001B[A\n",
      "DDIM Sampler:  64%|████████████████████████████████▍                  | 159/250 [01:21<00:46,  1.96it/s]\u001B[A\n",
      "DDIM Sampler:  64%|████████████████████████████████▋                  | 160/250 [01:21<00:45,  1.96it/s]\u001B[A\n",
      "DDIM Sampler:  64%|████████████████████████████████▊                  | 161/250 [01:22<00:45,  1.96it/s]\u001B[A\n",
      "DDIM Sampler:  65%|█████████████████████████████████                  | 162/250 [01:22<00:44,  1.96it/s]\u001B[A\n",
      "DDIM Sampler:  65%|█████████████████████████████████▎                 | 163/250 [01:23<00:44,  1.96it/s]\u001B[A\n",
      "DDIM Sampler:  66%|█████████████████████████████████▍                 | 164/250 [01:23<00:43,  1.96it/s]\u001B[A\n",
      "DDIM Sampler:  66%|█████████████████████████████████▋                 | 165/250 [01:24<00:43,  1.96it/s]\u001B[A\n",
      "DDIM Sampler:  66%|█████████████████████████████████▊                 | 166/250 [01:24<00:42,  1.96it/s]\u001B[A\n",
      "DDIM Sampler:  67%|██████████████████████████████████                 | 167/250 [01:25<00:42,  1.96it/s]\u001B[A\n",
      "DDIM Sampler:  67%|██████████████████████████████████▎                | 168/250 [01:25<00:41,  1.96it/s]\u001B[A\n",
      "DDIM Sampler:  68%|██████████████████████████████████▍                | 169/250 [01:26<00:41,  1.96it/s]\u001B[A\n",
      "DDIM Sampler:  68%|██████████████████████████████████▋                | 170/250 [01:26<00:40,  1.96it/s]\u001B[A\n",
      "DDIM Sampler:  68%|██████████████████████████████████▉                | 171/250 [01:27<00:40,  1.96it/s]\u001B[A\n",
      "DDIM Sampler:  69%|███████████████████████████████████                | 172/250 [01:27<00:39,  1.96it/s]\u001B[A\n",
      "DDIM Sampler:  69%|███████████████████████████████████▎               | 173/250 [01:28<00:39,  1.96it/s]\u001B[A\n",
      "DDIM Sampler:  70%|███████████████████████████████████▍               | 174/250 [01:28<00:38,  1.96it/s]\u001B[A\n",
      "DDIM Sampler:  70%|███████████████████████████████████▋               | 175/250 [01:29<00:38,  1.96it/s]\u001B[A\n",
      "DDIM Sampler:  70%|███████████████████████████████████▉               | 176/250 [01:29<00:37,  1.96it/s]\u001B[A\n",
      "DDIM Sampler:  71%|████████████████████████████████████               | 177/250 [01:30<00:37,  1.96it/s]\u001B[A\n",
      "DDIM Sampler:  71%|████████████████████████████████████▎              | 178/250 [01:30<00:36,  1.96it/s]\u001B[A\n",
      "DDIM Sampler:  72%|████████████████████████████████████▌              | 179/250 [01:31<00:36,  1.96it/s]\u001B[A\n",
      "DDIM Sampler:  72%|████████████████████████████████████▋              | 180/250 [01:31<00:35,  1.96it/s]\u001B[A\n",
      "DDIM Sampler:  72%|████████████████████████████████████▉              | 181/250 [01:32<00:35,  1.96it/s]\u001B[A\n",
      "DDIM Sampler:  73%|█████████████████████████████████████▏             | 182/250 [01:32<00:34,  1.96it/s]\u001B[A\n",
      "DDIM Sampler:  73%|█████████████████████████████████████▎             | 183/250 [01:33<00:34,  1.96it/s]\u001B[A\n",
      "DDIM Sampler:  74%|█████████████████████████████████████▌             | 184/250 [01:33<00:33,  1.96it/s]\u001B[A\n",
      "DDIM Sampler:  74%|█████████████████████████████████████▋             | 185/250 [01:34<00:33,  1.96it/s]\u001B[A\n",
      "DDIM Sampler:  74%|█████████████████████████████████████▉             | 186/250 [01:34<00:32,  1.96it/s]\u001B[A\n",
      "DDIM Sampler:  75%|██████████████████████████████████████▏            | 187/250 [01:35<00:32,  1.96it/s]\u001B[A\n",
      "DDIM Sampler:  75%|██████████████████████████████████████▎            | 188/250 [01:35<00:31,  1.96it/s]\u001B[A\n",
      "DDIM Sampler:  76%|██████████████████████████████████████▌            | 189/250 [01:36<00:31,  1.96it/s]\u001B[A\n",
      "DDIM Sampler:  76%|██████████████████████████████████████▊            | 190/250 [01:36<00:30,  1.96it/s]\u001B[A\n",
      "DDIM Sampler:  76%|██████████████████████████████████████▉            | 191/250 [01:37<00:30,  1.96it/s]\u001B[A\n",
      "DDIM Sampler:  77%|███████████████████████████████████████▏           | 192/250 [01:37<00:29,  1.96it/s]\u001B[A\n",
      "DDIM Sampler:  77%|███████████████████████████████████████▎           | 193/250 [01:38<00:29,  1.96it/s]\u001B[A\n",
      "DDIM Sampler:  78%|███████████████████████████████████████▌           | 194/250 [01:38<00:28,  1.96it/s]\u001B[A\n",
      "DDIM Sampler:  78%|███████████████████████████████████████▊           | 195/250 [01:39<00:28,  1.96it/s]\u001B[A\n",
      "DDIM Sampler:  78%|███████████████████████████████████████▉           | 196/250 [01:39<00:27,  1.96it/s]\u001B[A\n",
      "DDIM Sampler:  79%|████████████████████████████████████████▏          | 197/250 [01:40<00:27,  1.96it/s]\u001B[A\n",
      "DDIM Sampler:  79%|████████████████████████████████████████▍          | 198/250 [01:40<00:26,  1.96it/s]\u001B[A\n",
      "DDIM Sampler:  80%|████████████████████████████████████████▌          | 199/250 [01:41<00:26,  1.96it/s]\u001B[A\n",
      "DDIM Sampler:  80%|████████████████████████████████████████▊          | 200/250 [01:42<00:25,  1.96it/s]\u001B[A\n",
      "DDIM Sampler:  80%|█████████████████████████████████████████          | 201/250 [01:42<00:24,  1.96it/s]\u001B[A\n",
      "DDIM Sampler:  81%|█████████████████████████████████████████▏         | 202/250 [01:43<00:24,  1.96it/s]\u001B[A\n",
      "DDIM Sampler:  81%|█████████████████████████████████████████▍         | 203/250 [01:43<00:23,  1.96it/s]\u001B[A\n",
      "DDIM Sampler:  82%|█████████████████████████████████████████▌         | 204/250 [01:44<00:23,  1.96it/s]\u001B[A\n",
      "DDIM Sampler:  82%|█████████████████████████████████████████▊         | 205/250 [01:44<00:22,  1.96it/s]\u001B[A\n",
      "DDIM Sampler:  82%|██████████████████████████████████████████         | 206/250 [01:45<00:22,  1.96it/s]\u001B[A\n",
      "DDIM Sampler:  83%|██████████████████████████████████████████▏        | 207/250 [01:45<00:21,  1.96it/s]\u001B[A\n",
      "DDIM Sampler:  83%|██████████████████████████████████████████▍        | 208/250 [01:46<00:21,  1.96it/s]\u001B[A\n",
      "DDIM Sampler:  84%|██████████████████████████████████████████▋        | 209/250 [01:46<00:20,  1.96it/s]\u001B[A\n",
      "DDIM Sampler:  84%|██████████████████████████████████████████▊        | 210/250 [01:47<00:20,  1.96it/s]\u001B[A\n",
      "DDIM Sampler:  84%|███████████████████████████████████████████        | 211/250 [01:47<00:19,  1.96it/s]\u001B[A\n",
      "DDIM Sampler:  85%|███████████████████████████████████████████▏       | 212/250 [01:48<00:19,  1.96it/s]\u001B[A\n",
      "DDIM Sampler:  85%|███████████████████████████████████████████▍       | 213/250 [01:48<00:18,  1.96it/s]\u001B[A\n",
      "DDIM Sampler:  86%|███████████████████████████████████████████▋       | 214/250 [01:49<00:18,  1.96it/s]\u001B[A\n",
      "DDIM Sampler:  86%|███████████████████████████████████████████▊       | 215/250 [01:49<00:17,  1.96it/s]\u001B[A\n",
      "DDIM Sampler:  86%|████████████████████████████████████████████       | 216/250 [01:50<00:17,  1.96it/s]\u001B[A\n",
      "DDIM Sampler:  87%|████████████████████████████████████████████▎      | 217/250 [01:50<00:16,  1.96it/s]\u001B[A\n",
      "DDIM Sampler:  87%|████████████████████████████████████████████▍      | 218/250 [01:51<00:16,  1.96it/s]\u001B[A\n",
      "DDIM Sampler:  88%|████████████████████████████████████████████▋      | 219/250 [01:51<00:15,  1.96it/s]\u001B[A\n",
      "DDIM Sampler:  88%|████████████████████████████████████████████▉      | 220/250 [01:52<00:15,  1.96it/s]\u001B[A\n",
      "DDIM Sampler:  88%|█████████████████████████████████████████████      | 221/250 [01:52<00:14,  1.96it/s]\u001B[A\n",
      "DDIM Sampler:  89%|█████████████████████████████████████████████▎     | 222/250 [01:53<00:14,  1.96it/s]\u001B[A\n",
      "DDIM Sampler:  89%|█████████████████████████████████████████████▍     | 223/250 [01:53<00:13,  1.96it/s]\u001B[A\n",
      "DDIM Sampler:  90%|█████████████████████████████████████████████▋     | 224/250 [01:54<00:13,  1.96it/s]\u001B[A\n"
     ]
    },
    {
     "name": "stderr",
     "output_type": "stream",
     "text": [
      "DDIM Sampler:  90%|█████████████████████████████████████████████▉     | 225/250 [01:54<00:12,  1.96it/s]\u001B[A\n",
      "DDIM Sampler:  90%|██████████████████████████████████████████████     | 226/250 [01:55<00:12,  1.96it/s]\u001B[A\n",
      "DDIM Sampler:  91%|██████████████████████████████████████████████▎    | 227/250 [01:55<00:11,  1.96it/s]\u001B[A\n",
      "DDIM Sampler:  91%|██████████████████████████████████████████████▌    | 228/250 [01:56<00:11,  1.96it/s]\u001B[A\n",
      "DDIM Sampler:  92%|██████████████████████████████████████████████▋    | 229/250 [01:56<00:10,  1.96it/s]\u001B[A\n",
      "DDIM Sampler:  92%|██████████████████████████████████████████████▉    | 230/250 [01:57<00:10,  1.96it/s]\u001B[A\n",
      "DDIM Sampler:  92%|███████████████████████████████████████████████    | 231/250 [01:57<00:09,  1.96it/s]\u001B[A\n",
      "DDIM Sampler:  93%|███████████████████████████████████████████████▎   | 232/250 [01:58<00:09,  1.96it/s]\u001B[A\n",
      "DDIM Sampler:  93%|███████████████████████████████████████████████▌   | 233/250 [01:58<00:08,  1.96it/s]\u001B[A\n",
      "DDIM Sampler:  94%|███████████████████████████████████████████████▋   | 234/250 [01:59<00:08,  1.96it/s]\u001B[A\n",
      "DDIM Sampler:  94%|███████████████████████████████████████████████▉   | 235/250 [01:59<00:07,  1.96it/s]\u001B[A\n",
      "DDIM Sampler:  94%|████████████████████████████████████████████████▏  | 236/250 [02:00<00:07,  1.96it/s]\u001B[A\n",
      "DDIM Sampler:  95%|████████████████████████████████████████████████▎  | 237/250 [02:00<00:06,  1.96it/s]\u001B[A\n",
      "DDIM Sampler:  95%|████████████████████████████████████████████████▌  | 238/250 [02:01<00:06,  1.96it/s]\u001B[A\n",
      "DDIM Sampler:  96%|████████████████████████████████████████████████▊  | 239/250 [02:01<00:05,  1.96it/s]\u001B[A\n",
      "DDIM Sampler:  96%|████████████████████████████████████████████████▉  | 240/250 [02:02<00:05,  1.96it/s]\u001B[A\n",
      "DDIM Sampler:  96%|█████████████████████████████████████████████████▏ | 241/250 [02:02<00:04,  1.96it/s]\u001B[A\n",
      "DDIM Sampler:  97%|█████████████████████████████████████████████████▎ | 242/250 [02:03<00:04,  1.96it/s]\u001B[A\n",
      "DDIM Sampler:  97%|█████████████████████████████████████████████████▌ | 243/250 [02:03<00:03,  1.96it/s]\u001B[A\n",
      "DDIM Sampler:  98%|█████████████████████████████████████████████████▊ | 244/250 [02:04<00:03,  1.96it/s]\u001B[A\n",
      "DDIM Sampler:  98%|█████████████████████████████████████████████████▉ | 245/250 [02:04<00:02,  1.96it/s]\u001B[A\n",
      "DDIM Sampler:  98%|██████████████████████████████████████████████████▏| 246/250 [02:05<00:02,  1.96it/s]\u001B[A\n",
      "DDIM Sampler:  99%|██████████████████████████████████████████████████▍| 247/250 [02:05<00:01,  1.96it/s]\u001B[A\n",
      "DDIM Sampler:  99%|██████████████████████████████████████████████████▌| 248/250 [02:06<00:01,  1.96it/s]\u001B[A\n",
      "DDIM Sampler: 100%|██████████████████████████████████████████████████▊| 249/250 [02:07<00:00,  1.96it/s]\u001B[A\n",
      "DDIM Sampler: 100%|███████████████████████████████████████████████████| 250/250 [02:07<00:00,  1.96it/s]\u001B[A\n",
      "Sampling Batches (conditional): 100%|████████████████████████████████████| 2/2 [04:15<00:00, 127.90s/it]"
     ]
    },
    {
     "name": "stdout",
     "output_type": "stream",
     "text": [
      "path save to /work/data1/wangzixu/backup/sketchmol_model/ep4/2024-10-16-15-26-50_exmaple_tutorial/samples/image_path.csv\n",
      "done.\n",
      "sampling of 8 images finished in 4.26 minutes.\n"
     ]
    },
    {
     "name": "stderr",
     "output_type": "stream",
     "text": [
      "\n"
     ]
    }
   ],
   "source": [
    "sample_ep4_mol_fragment(model, \n",
    "                        imglogdir=imglogdir, \n",
    "                        eta=opt.eta, scale=opt.scale, logdir=logdir,\n",
    "                        vanilla=opt.vanilla_sample, n_samples=opt.n_samples, custom_steps=opt.custom_steps,\n",
    "                        conditional_count=opt.conditional_count,\n",
    "                        condition_type=opt.condition_type, \n",
    "                        preset_str=opt.preset_str, tri_mode=opt.tri, scale_pro=opt.scale_pro,\n",
    "                        validation_dataset=opt.validation_dataset, mask_from_where=opt.mask_from_where,\n",
    "                        zoom_factor=opt.zoom_factor, repaint_time=opt.repaint_time,)"
   ]
  },
  {
   "cell_type": "code",
   "execution_count": 66,
   "id": "be57c7df",
   "metadata": {
    "pycharm": {
     "name": "#%%\n"
    }
   },
   "outputs": [
    {
     "data": {
      "image/png": "[encoded data removed]",
      "text/plain": [
       "<Figure size 800x800 with 8 Axes>"
      ]
     },
     "metadata": {},
     "output_type": "display_data"
    }
   ],
   "source": [
    "generated_csv_file = \"path to your generated images\"\n",
    "df = pd.read_csv(generated_csv_file)\n",
    "image_paths = df['image_path'].tolist() \n",
    "num_images = len(image_paths)\n",
    "images_per_row = 4\n",
    "num_rows = (num_images + images_per_row - 1) // images_per_row\n",
    "\n",
    "fig, axes = plt.subplots(num_rows, images_per_row, figsize=(images_per_row * 2, num_rows * 4))\n",
    "axes = axes.flatten()  \n",
    "\n",
    "for i, image_path in enumerate(image_paths):\n",
    "    img = Image.open(image_path)\n",
    "    axes[i].imshow(img)\n",
    "    axes[i].axis('off') \n",
    "for j in range(i + 1, len(axes)):\n",
    "    axes[j].axis('off')\n",
    "plt.tight_layout()\n",
    "plt.show()"
   ]
  }
 ],
 "metadata": {
  "kernelspec": {
   "display_name": "Python 3 (ipykernel)",
   "language": "python",
   "name": "python3"
  },
  "language_info": {
   "codemirror_mode": {
    "name": "ipython",
    "version": 3
   },
   "file_extension": ".py",
   "mimetype": "text/x-python",
   "name": "python",
   "nbconvert_exporter": "python",
   "pygments_lexer": "ipython3",
   "version": "3.7.5"
  }
 },
 "nbformat": 4,
 "nbformat_minor": 5
}